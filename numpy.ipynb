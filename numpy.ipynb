{
  "nbformat": 4,
  "nbformat_minor": 0,
  "metadata": {
    "colab": {
      "provenance": []
    },
    "kernelspec": {
      "name": "python3",
      "display_name": "Python 3"
    },
    "language_info": {
      "name": "python"
    }
  },
  "cells": [
    {
      "cell_type": "code",
      "execution_count": 1,
      "metadata": {
        "id": "PdaWtg2vf7yz"
      },
      "outputs": [],
      "source": [
        "import numpy as np"
      ]
    },
    {
      "cell_type": "code",
      "source": [
        "## create a numpy array 'arr'  of integers 0 to 5 and print its data type.\n",
        "arr=np.array((0,1,2,3,4,5))"
      ],
      "metadata": {
        "id": "sVFsV9NkgbmB"
      },
      "execution_count": 2,
      "outputs": []
    },
    {
      "cell_type": "code",
      "source": [
        "arr.dtype"
      ],
      "metadata": {
        "colab": {
          "base_uri": "https://localhost:8080/"
        },
        "id": "siuasZhAgbxA",
        "outputId": "2ee15e8f-d0d6-46eb-a50d-ff5d697bacda"
      },
      "execution_count": 3,
      "outputs": [
        {
          "output_type": "execute_result",
          "data": {
            "text/plain": [
              "dtype('int64')"
            ]
          },
          "metadata": {},
          "execution_count": 3
        }
      ]
    },
    {
      "cell_type": "code",
      "source": [
        "## 2.create a numpy array \"arr\" check its data type is float 64.\n",
        "arr=np.array([1.5,2.6,3.7])"
      ],
      "metadata": {
        "id": "muhizT0Hgby1"
      },
      "execution_count": 4,
      "outputs": []
    },
    {
      "cell_type": "code",
      "source": [
        "arr.dtype"
      ],
      "metadata": {
        "colab": {
          "base_uri": "https://localhost:8080/"
        },
        "id": "d5hCr6P0gb2x",
        "outputId": "e7e38120-b96b-474d-e908-be52882173a0"
      },
      "execution_count": null,
      "outputs": [
        {
          "output_type": "execute_result",
          "data": {
            "text/plain": [
              "dtype('float64')"
            ]
          },
          "metadata": {},
          "execution_count": 5
        }
      ]
    },
    {
      "cell_type": "code",
      "source": [
        "## 3.create numpy array \"arr\" with data type of complex 128 containing three complex numbers\n",
        "arr=np.array([3+4j,4+5j,5+6j])"
      ],
      "metadata": {
        "id": "QC3Ha_Uzgb5W"
      },
      "execution_count": 5,
      "outputs": []
    },
    {
      "cell_type": "code",
      "source": [
        "## 4.convert existing numpay array \"arr\" of integer to float 32 data type\n",
        "arr=np.array([1,2,3,4,5])\n",
        "\n"
      ],
      "metadata": {
        "id": "QErb4bzkj6xA"
      },
      "execution_count": 6,
      "outputs": []
    },
    {
      "cell_type": "code",
      "source": [
        "arr.astype(np.float32)"
      ],
      "metadata": {
        "colab": {
          "base_uri": "https://localhost:8080/"
        },
        "id": "s5qzCOe6j6zE",
        "outputId": "6c5cc59b-9959-4e6b-f536-85d35da90b1d"
      },
      "execution_count": 7,
      "outputs": [
        {
          "output_type": "execute_result",
          "data": {
            "text/plain": [
              "array([1., 2., 3., 4., 5.], dtype=float32)"
            ]
          },
          "metadata": {},
          "execution_count": 7
        }
      ]
    },
    {
      "cell_type": "code",
      "source": [
        "##5given a numpy array  \"arr\" float64 data type,convert it to float 32 to reduce decimal precesion.\n",
        "arr=np.array([1.,2.,3.,4.],dtype=np.float64)"
      ],
      "metadata": {
        "id": "XN2kzsiWj62v"
      },
      "execution_count": 8,
      "outputs": []
    },
    {
      "cell_type": "code",
      "source": [
        "arr.astype(np.float32)"
      ],
      "metadata": {
        "colab": {
          "base_uri": "https://localhost:8080/"
        },
        "id": "2DLv9Uk7SKlA",
        "outputId": "c39e3bec-5f28-4352-9276-9bac624d2538"
      },
      "execution_count": 9,
      "outputs": [
        {
          "output_type": "execute_result",
          "data": {
            "text/plain": [
              "array([1., 2., 3., 4.], dtype=float32)"
            ]
          },
          "metadata": {},
          "execution_count": 9
        }
      ]
    },
    {
      "cell_type": "code",
      "source": [
        "## 6 write a function array attribute that  takes numpy array as input and return its shape,size and data type\n",
        "def array_attribute(arr):\n",
        "  print(f\"shpae is {arr.shape}\")\n",
        "  print(f\"size is {arr.size}\")\n",
        "  print(f\"data type is {arr.dtype}\")"
      ],
      "metadata": {
        "id": "70JUxZqiTF_r"
      },
      "execution_count": 10,
      "outputs": []
    },
    {
      "cell_type": "code",
      "source": [
        "array_attribute(arr=np.array([1,2,3,4,5]))"
      ],
      "metadata": {
        "colab": {
          "base_uri": "https://localhost:8080/"
        },
        "id": "QT5NmlUxTHmA",
        "outputId": "4da143fd-4ba6-4be1-bd6f-25442eceefec"
      },
      "execution_count": 11,
      "outputs": [
        {
          "output_type": "stream",
          "name": "stdout",
          "text": [
            "shpae is (5,)\n",
            "size is 5\n",
            "data type is int64\n"
          ]
        }
      ]
    },
    {
      "cell_type": "code",
      "source": [
        "## 7. create a function array_dimension that takes numpy array as input and return its dimensionality.\n",
        "def array_dimension(arr):\n",
        "  print(f\"dimensionality is {arr.ndim}\")\n",
        "\n"
      ],
      "metadata": {
        "id": "WLO_rlt0UfVv"
      },
      "execution_count": 12,
      "outputs": []
    },
    {
      "cell_type": "code",
      "source": [
        "array_dimension(arr=np.array([[1,2,3,],[4,5,6]]))"
      ],
      "metadata": {
        "colab": {
          "base_uri": "https://localhost:8080/"
        },
        "id": "xAA-gtvJTHn-",
        "outputId": "e8e29a61-f0d0-44b8-d5c3-15dd724e4143"
      },
      "execution_count": 13,
      "outputs": [
        {
          "output_type": "stream",
          "name": "stdout",
          "text": [
            "dimensionality is 2\n"
          ]
        }
      ]
    },
    {
      "cell_type": "code",
      "source": [
        "## 8. design a function item_size_info that takes a numpy array as input and return item size and the total size in bytes.\n",
        "def item_size_info(arr):\n",
        "  print(f\"item size is {arr.itemsize}\")\n",
        "  print(f\"total size is {arr.nbytes}\")\n",
        "\n"
      ],
      "metadata": {
        "id": "6R50NXGeVuvI"
      },
      "execution_count": 14,
      "outputs": []
    },
    {
      "cell_type": "code",
      "source": [
        "item_size_info(arr=np.array([[1,2,3,],[4,5,6]]))"
      ],
      "metadata": {
        "colab": {
          "base_uri": "https://localhost:8080/"
        },
        "id": "URwr08q-Wk4c",
        "outputId": "77d4c7a8-d4e7-4fde-f6f7-8c53a9a75fd7"
      },
      "execution_count": 15,
      "outputs": [
        {
          "output_type": "stream",
          "name": "stdout",
          "text": [
            "item size is 8\n",
            "total size is 48\n"
          ]
        }
      ]
    },
    {
      "cell_type": "code",
      "source": [
        "## 9.create a function array _stride tha takes numpy array as input and return the stride of array.\n",
        "def array_stride(arr):\n",
        "  print(arr)\n",
        "  print(f\"stride is {arr.strides}\")"
      ],
      "metadata": {
        "id": "6fFDC40qX-fI"
      },
      "execution_count": 16,
      "outputs": []
    },
    {
      "cell_type": "code",
      "source": [
        "array_stride(arr=np.array([[1,2,3,],[4,5,6]]))"
      ],
      "metadata": {
        "colab": {
          "base_uri": "https://localhost:8080/"
        },
        "id": "Qwv-UNLCY6PP",
        "outputId": "e667836c-1815-486d-e03f-4521f993d419"
      },
      "execution_count": 17,
      "outputs": [
        {
          "output_type": "stream",
          "name": "stdout",
          "text": [
            "[[1 2 3]\n",
            " [4 5 6]]\n",
            "stride is (24, 8)\n"
          ]
        }
      ]
    },
    {
      "cell_type": "code",
      "source": [
        " ##10.design a function shape_stride_relationship that takes numpay array as input and return the shape and stride of the array.\n",
        " def shape_stride_relationship(arr):\n",
        "  print(arr)\n",
        "  print(f\"shape is {arr.shape}\")\n",
        "  print(f\"stride is {arr.strides}\")\n"
      ],
      "metadata": {
        "id": "YgZx-wXTZCU2"
      },
      "execution_count": 18,
      "outputs": []
    },
    {
      "cell_type": "code",
      "source": [
        "shape_stride_relationship(arr=np.array([[1,2,3,],[4,5,6]]))"
      ],
      "metadata": {
        "colab": {
          "base_uri": "https://localhost:8080/"
        },
        "id": "vHL_dSzmX-wn",
        "outputId": "6080e117-a261-4b48-ef6b-b18349f58586"
      },
      "execution_count": 19,
      "outputs": [
        {
          "output_type": "stream",
          "name": "stdout",
          "text": [
            "[[1 2 3]\n",
            " [4 5 6]]\n",
            "shape is (2, 3)\n",
            "stride is (24, 8)\n"
          ]
        }
      ]
    },
    {
      "cell_type": "code",
      "source": [
        "## 11. create a function create_zeros_array  that takes an integer n as input return a numpy array of zeros element with n element\n",
        "def create_zeros_array(n):\n",
        "  return np.zeros(n)"
      ],
      "metadata": {
        "id": "0ihmxIxkisyC"
      },
      "execution_count": 20,
      "outputs": []
    },
    {
      "cell_type": "code",
      "source": [
        "create_zeros_array((4))\n"
      ],
      "metadata": {
        "id": "zomIknPqis-P"
      },
      "execution_count": null,
      "outputs": []
    },
    {
      "cell_type": "code",
      "source": [
        "##12. wrtie a function create ones matrix that takes integers rows and cols as input and generate 2d numpay array filled with ones of size rows x cols.\n",
        "def create_ones_matrix(rows,cols):\n",
        "  return np.ones((rows,cols))"
      ],
      "metadata": {
        "id": "ZX0rES33itAr"
      },
      "execution_count": null,
      "outputs": []
    },
    {
      "cell_type": "code",
      "source": [
        "create_ones_matrix(rows=4,cols=3)"
      ],
      "metadata": {
        "id": "iIYsABuzitDW"
      },
      "execution_count": null,
      "outputs": []
    },
    {
      "cell_type": "code",
      "source": [
        "##13.write a function generate_range_array that takes three inputs start,stop and step as argument and create numpy array with range starting\n",
        "## start form start ending at stop(exculsive),with specified step.\n",
        "def generate_range_array(start,stop,step):\n",
        "  return np.arange(start,stop,step)\n"
      ],
      "metadata": {
        "id": "n9EA2gH1itFp"
      },
      "execution_count": null,
      "outputs": []
    },
    {
      "cell_type": "code",
      "source": [
        "generate_range_array(start=2,stop=10,step=2)"
      ],
      "metadata": {
        "id": "chwnXCgTs9U8"
      },
      "execution_count": null,
      "outputs": []
    },
    {
      "cell_type": "code",
      "source": [
        "##14.design function generate_linear_space that takes two float start,stop,and integer num as argument and generate a numpy array with num equally spaced\n",
        "## value between start and stop (inclusive)\n",
        "def generate_linear_space(start,stop,num):\n",
        "  return np.linspace(start,stop,num)"
      ],
      "metadata": {
        "id": "NqXGvhqCs9Xa"
      },
      "execution_count": null,
      "outputs": []
    },
    {
      "cell_type": "code",
      "source": [
        "generate_linear_space(start=3.4,stop=12.4,num=3)"
      ],
      "metadata": {
        "colab": {
          "base_uri": "https://localhost:8080/"
        },
        "id": "CWvEn86ts9aW",
        "outputId": "c2611bdd-4e87-4552-8df8-e5f0e86fc468"
      },
      "execution_count": null,
      "outputs": [
        {
          "output_type": "execute_result",
          "data": {
            "text/plain": [
              "array([ 3.4,  7.9, 12.4])"
            ]
          },
          "metadata": {},
          "execution_count": 28
        }
      ]
    },
    {
      "cell_type": "code",
      "source": [
        "## 15. create a function create_Identity_matrix that takes  an integer n as input and generate a square identity of size of size n*n using numpy.eye\n",
        "def create_identity_matrix(n):\n",
        "  return np.eye(n)\n"
      ],
      "metadata": {
        "id": "UIlayc47s9c1"
      },
      "execution_count": null,
      "outputs": []
    },
    {
      "cell_type": "code",
      "source": [
        "create_identity_matrix(n=4)"
      ],
      "metadata": {
        "colab": {
          "base_uri": "https://localhost:8080/"
        },
        "id": "6jLqL2RuyH6K",
        "outputId": "877b9066-1499-477a-af47-b89e05855a4e"
      },
      "execution_count": null,
      "outputs": [
        {
          "output_type": "execute_result",
          "data": {
            "text/plain": [
              "array([[1., 0., 0., 0.],\n",
              "       [0., 1., 0., 0.],\n",
              "       [0., 0., 1., 0.],\n",
              "       [0., 0., 0., 1.]])"
            ]
          },
          "metadata": {},
          "execution_count": 30
        }
      ]
    },
    {
      "cell_type": "code",
      "source": [
        "##16. write a function that takes a pythoon list and convert into numpy array\n",
        "def list_to_array(lis):\n",
        "  return np.array(lis)"
      ],
      "metadata": {
        "id": "FzepsysIyIDw"
      },
      "execution_count": 23,
      "outputs": []
    },
    {
      "cell_type": "code",
      "source": [
        "list_to_array(lis=[1,2,3,4,5,6,7,8,9])"
      ],
      "metadata": {
        "colab": {
          "base_uri": "https://localhost:8080/"
        },
        "id": "UhhPf-6yyIIJ",
        "outputId": "f7e42c89-43cd-4ded-db4a-281717230f6a"
      },
      "execution_count": null,
      "outputs": [
        {
          "output_type": "execute_result",
          "data": {
            "text/plain": [
              "array([1, 2, 3, 4, 5, 6, 7, 8, 9])"
            ]
          },
          "metadata": {},
          "execution_count": 34
        }
      ]
    },
    {
      "cell_type": "code",
      "source": [
        "## 17. create a numpy array and demonstrate the use of numpy.view to create a new array object with the some data.\n",
        "arr=np.array([1,2,3,4,5,6,7,8])\n",
        "arr1=arr.view()\n",
        "\n"
      ],
      "metadata": {
        "id": "lK75aZkn0LEd"
      },
      "execution_count": 22,
      "outputs": []
    },
    {
      "cell_type": "code",
      "source": [
        "arr1[0]=10\n",
        "print(\"oringnal array is\",arr)\n",
        "print(\"view array is \",arr1)"
      ],
      "metadata": {
        "colab": {
          "base_uri": "https://localhost:8080/",
          "height": 176
        },
        "id": "vysQBlsM2iHq",
        "outputId": "430bdd11-3426-46a5-9596-a3145f137c4f"
      },
      "execution_count": 21,
      "outputs": [
        {
          "output_type": "error",
          "ename": "NameError",
          "evalue": "name 'arr1' is not defined",
          "traceback": [
            "\u001b[0;31m---------------------------------------------------------------------------\u001b[0m",
            "\u001b[0;31mNameError\u001b[0m                                 Traceback (most recent call last)",
            "\u001b[0;32m<ipython-input-21-73aae27651e9>\u001b[0m in \u001b[0;36m<cell line: 1>\u001b[0;34m()\u001b[0m\n\u001b[0;32m----> 1\u001b[0;31m \u001b[0marr1\u001b[0m\u001b[0;34m[\u001b[0m\u001b[0;36m0\u001b[0m\u001b[0;34m]\u001b[0m\u001b[0;34m=\u001b[0m\u001b[0;36m10\u001b[0m\u001b[0;34m\u001b[0m\u001b[0;34m\u001b[0m\u001b[0m\n\u001b[0m\u001b[1;32m      2\u001b[0m \u001b[0mprint\u001b[0m\u001b[0;34m(\u001b[0m\u001b[0;34m\"oringnal array is\"\u001b[0m\u001b[0;34m,\u001b[0m\u001b[0marr\u001b[0m\u001b[0;34m)\u001b[0m\u001b[0;34m\u001b[0m\u001b[0;34m\u001b[0m\u001b[0m\n\u001b[1;32m      3\u001b[0m \u001b[0mprint\u001b[0m\u001b[0;34m(\u001b[0m\u001b[0;34m\"view array is \"\u001b[0m\u001b[0;34m,\u001b[0m\u001b[0marr1\u001b[0m\u001b[0;34m)\u001b[0m\u001b[0;34m\u001b[0m\u001b[0;34m\u001b[0m\u001b[0m\n",
            "\u001b[0;31mNameError\u001b[0m: name 'arr1' is not defined"
          ]
        }
      ]
    },
    {
      "cell_type": "code",
      "source": [
        "# # 18. write a function that takes two numpy array and concatenate them horizonatally using numpy concatenate\n",
        "def concatenate_array(arr1,arr2):\n",
        "  return np.concatenate((arr1,arr2),axis=0)"
      ],
      "metadata": {
        "id": "BShwBgtFitIa"
      },
      "execution_count": 24,
      "outputs": []
    },
    {
      "cell_type": "code",
      "source": [
        "concatenate_array(arr1=np.array((1,2,3,4)),arr2=np.array((5,6,7,8)))"
      ],
      "metadata": {
        "colab": {
          "base_uri": "https://localhost:8080/"
        },
        "id": "8nsSN9q1itKv",
        "outputId": "807191ed-e85b-408e-dd74-f061e48367dd"
      },
      "execution_count": 25,
      "outputs": [
        {
          "output_type": "execute_result",
          "data": {
            "text/plain": [
              "array([1, 2, 3, 4, 5, 6, 7, 8])"
            ]
          },
          "metadata": {},
          "execution_count": 25
        }
      ]
    },
    {
      "cell_type": "code",
      "source": [
        "##19. create a numpy array with different shape and concatenate them horizonatally using numpy. conatenate.\n",
        "def concatenate(arr1,arr2):\n",
        "  return  np.concatenate((arr1,arr2),axis=0)"
      ],
      "metadata": {
        "id": "xJ-DbxA95prM"
      },
      "execution_count": 26,
      "outputs": []
    },
    {
      "cell_type": "code",
      "source": [
        "concatenate(arr1=np.array([1,2,3,4]),arr2=np.array([33,44,55]))"
      ],
      "metadata": {
        "colab": {
          "base_uri": "https://localhost:8080/"
        },
        "id": "Zsq6G3vwiha3",
        "outputId": "e77a7df9-74ca-45ed-f34b-1c1a40c78760"
      },
      "execution_count": 27,
      "outputs": [
        {
          "output_type": "execute_result",
          "data": {
            "text/plain": [
              "array([ 1,  2,  3,  4, 33, 44, 55])"
            ]
          },
          "metadata": {},
          "execution_count": 27
        }
      ]
    },
    {
      "cell_type": "code",
      "source": [
        "##20. write a function that vertically stacks multiple numpy array given a list.\n",
        "def vertical_stack(arr):\n",
        "  return np.vstack(arr)"
      ],
      "metadata": {
        "id": "R58oeQdA_RPE"
      },
      "execution_count": 28,
      "outputs": []
    },
    {
      "cell_type": "code",
      "source": [
        "vertical_stack(arr=[(np.array([1,2,3,4]),np.array([33,44,55,66]))])"
      ],
      "metadata": {
        "colab": {
          "base_uri": "https://localhost:8080/"
        },
        "id": "oTwriZDhiNa5",
        "outputId": "8060277b-61c5-47e6-8308-7c0ec9aa09fa"
      },
      "execution_count": 29,
      "outputs": [
        {
          "output_type": "execute_result",
          "data": {
            "text/plain": [
              "array([[ 1,  2,  3,  4],\n",
              "       [33, 44, 55, 66]])"
            ]
          },
          "metadata": {},
          "execution_count": 29
        }
      ]
    },
    {
      "cell_type": "code",
      "source": [
        "## 21. write a pythoon function using numpy array to create an array  of integers wihiin specified range(inculsive)\n",
        "def array_num(start,stop):\n",
        "  return np.arange(start,stop+1)"
      ],
      "metadata": {
        "id": "3Eo7MSusWlBH"
      },
      "execution_count": 30,
      "outputs": []
    },
    {
      "cell_type": "code",
      "source": [
        "array_num(start=2,stop=10)"
      ],
      "metadata": {
        "colab": {
          "base_uri": "https://localhost:8080/"
        },
        "id": "giNLLX7_THsD",
        "outputId": "1f7a8d5c-e438-41a3-afaa-f35326c7eeaa"
      },
      "execution_count": 31,
      "outputs": [
        {
          "output_type": "execute_result",
          "data": {
            "text/plain": [
              "array([ 2,  3,  4,  5,  6,  7,  8,  9, 10])"
            ]
          },
          "metadata": {},
          "execution_count": 31
        }
      ]
    },
    {
      "cell_type": "code",
      "source": [
        "##22. Write a Python function using NumPy to generate an array of 10 equally spaced values between 0 and 1(inclusive).\n",
        "def generate_array(start,stop):\n",
        "  return np.linspace(start,stop,10)"
      ],
      "metadata": {
        "id": "R-E0aW4-THuc"
      },
      "execution_count": 32,
      "outputs": []
    },
    {
      "cell_type": "code",
      "source": [
        "generate_array(start=0,stop=1)"
      ],
      "metadata": {
        "colab": {
          "base_uri": "https://localhost:8080/"
        },
        "id": "rX5sohO0THxP",
        "outputId": "1682edc9-8e32-43ae-cf88-0b6ea3c369c6"
      },
      "execution_count": 33,
      "outputs": [
        {
          "output_type": "execute_result",
          "data": {
            "text/plain": [
              "array([0.        , 0.11111111, 0.22222222, 0.33333333, 0.44444444,\n",
              "       0.55555556, 0.66666667, 0.77777778, 0.88888889, 1.        ])"
            ]
          },
          "metadata": {},
          "execution_count": 33
        }
      ]
    },
    {
      "cell_type": "code",
      "source": [
        "## 23. write a pythoon function using numpay array to create an arary of 5 logarithmcally spacel value between 1 and 1000(inclusiv))\n",
        "def generate_array(start,stop,num):\n",
        "  return np.logspace(start,stop,num)"
      ],
      "metadata": {
        "id": "h9hV1LmfZzr_"
      },
      "execution_count": null,
      "outputs": []
    },
    {
      "cell_type": "code",
      "source": [
        "generate_array(1,1000,5)"
      ],
      "metadata": {
        "colab": {
          "base_uri": "https://localhost:8080/",
          "height": 141
        },
        "id": "MxSFipeHj64v",
        "outputId": "7020b80f-9abb-4f61-8e23-cf3036b9596d"
      },
      "execution_count": 34,
      "outputs": [
        {
          "output_type": "error",
          "ename": "TypeError",
          "evalue": "generate_array() takes 2 positional arguments but 3 were given",
          "traceback": [
            "\u001b[0;31m---------------------------------------------------------------------------\u001b[0m",
            "\u001b[0;31mTypeError\u001b[0m                                 Traceback (most recent call last)",
            "\u001b[0;32m<ipython-input-34-73450fa2a35c>\u001b[0m in \u001b[0;36m<cell line: 1>\u001b[0;34m()\u001b[0m\n\u001b[0;32m----> 1\u001b[0;31m \u001b[0mgenerate_array\u001b[0m\u001b[0;34m(\u001b[0m\u001b[0;36m1\u001b[0m\u001b[0;34m,\u001b[0m\u001b[0;36m1000\u001b[0m\u001b[0;34m,\u001b[0m\u001b[0;36m5\u001b[0m\u001b[0;34m)\u001b[0m\u001b[0;34m\u001b[0m\u001b[0;34m\u001b[0m\u001b[0m\n\u001b[0m",
            "\u001b[0;31mTypeError\u001b[0m: generate_array() takes 2 positional arguments but 3 were given"
          ]
        }
      ]
    },
    {
      "cell_type": "code",
      "source": [
        "## 24. create pandas dataframe using numpay array that contain 5 rows and 3 coloumns where the value are random integer between 1 to 100\n",
        "import pandas as pd\n",
        "def create_dataframe(rows,cols):\n",
        "  return pd.DataFrame(np.random. randint(1,100,size=(rows,cols)))\n",
        "\n",
        "\n"
      ],
      "metadata": {
        "id": "BodJlJuLj68L"
      },
      "execution_count": 35,
      "outputs": []
    },
    {
      "cell_type": "code",
      "source": [
        "create_dataframe(rows=5,cols=3)"
      ],
      "metadata": {
        "colab": {
          "base_uri": "https://localhost:8080/",
          "height": 206
        },
        "id": "gSHiskYGj6-N",
        "outputId": "d43c575d-5344-46a9-afe0-c3e352e14f0e"
      },
      "execution_count": 36,
      "outputs": [
        {
          "output_type": "execute_result",
          "data": {
            "text/plain": [
              "    0   1   2\n",
              "0  26  86  38\n",
              "1  91  61  10\n",
              "2  68  47   9\n",
              "3  97  65  11\n",
              "4  70  77  75"
            ],
            "text/html": [
              "\n",
              "  <div id=\"df-cac19c83-24cb-4f70-9ebd-ffb377844eea\" class=\"colab-df-container\">\n",
              "    <div>\n",
              "<style scoped>\n",
              "    .dataframe tbody tr th:only-of-type {\n",
              "        vertical-align: middle;\n",
              "    }\n",
              "\n",
              "    .dataframe tbody tr th {\n",
              "        vertical-align: top;\n",
              "    }\n",
              "\n",
              "    .dataframe thead th {\n",
              "        text-align: right;\n",
              "    }\n",
              "</style>\n",
              "<table border=\"1\" class=\"dataframe\">\n",
              "  <thead>\n",
              "    <tr style=\"text-align: right;\">\n",
              "      <th></th>\n",
              "      <th>0</th>\n",
              "      <th>1</th>\n",
              "      <th>2</th>\n",
              "    </tr>\n",
              "  </thead>\n",
              "  <tbody>\n",
              "    <tr>\n",
              "      <th>0</th>\n",
              "      <td>26</td>\n",
              "      <td>86</td>\n",
              "      <td>38</td>\n",
              "    </tr>\n",
              "    <tr>\n",
              "      <th>1</th>\n",
              "      <td>91</td>\n",
              "      <td>61</td>\n",
              "      <td>10</td>\n",
              "    </tr>\n",
              "    <tr>\n",
              "      <th>2</th>\n",
              "      <td>68</td>\n",
              "      <td>47</td>\n",
              "      <td>9</td>\n",
              "    </tr>\n",
              "    <tr>\n",
              "      <th>3</th>\n",
              "      <td>97</td>\n",
              "      <td>65</td>\n",
              "      <td>11</td>\n",
              "    </tr>\n",
              "    <tr>\n",
              "      <th>4</th>\n",
              "      <td>70</td>\n",
              "      <td>77</td>\n",
              "      <td>75</td>\n",
              "    </tr>\n",
              "  </tbody>\n",
              "</table>\n",
              "</div>\n",
              "    <div class=\"colab-df-buttons\">\n",
              "\n",
              "  <div class=\"colab-df-container\">\n",
              "    <button class=\"colab-df-convert\" onclick=\"convertToInteractive('df-cac19c83-24cb-4f70-9ebd-ffb377844eea')\"\n",
              "            title=\"Convert this dataframe to an interactive table.\"\n",
              "            style=\"display:none;\">\n",
              "\n",
              "  <svg xmlns=\"http://www.w3.org/2000/svg\" height=\"24px\" viewBox=\"0 -960 960 960\">\n",
              "    <path d=\"M120-120v-720h720v720H120Zm60-500h600v-160H180v160Zm220 220h160v-160H400v160Zm0 220h160v-160H400v160ZM180-400h160v-160H180v160Zm440 0h160v-160H620v160ZM180-180h160v-160H180v160Zm440 0h160v-160H620v160Z\"/>\n",
              "  </svg>\n",
              "    </button>\n",
              "\n",
              "  <style>\n",
              "    .colab-df-container {\n",
              "      display:flex;\n",
              "      gap: 12px;\n",
              "    }\n",
              "\n",
              "    .colab-df-convert {\n",
              "      background-color: #E8F0FE;\n",
              "      border: none;\n",
              "      border-radius: 50%;\n",
              "      cursor: pointer;\n",
              "      display: none;\n",
              "      fill: #1967D2;\n",
              "      height: 32px;\n",
              "      padding: 0 0 0 0;\n",
              "      width: 32px;\n",
              "    }\n",
              "\n",
              "    .colab-df-convert:hover {\n",
              "      background-color: #E2EBFA;\n",
              "      box-shadow: 0px 1px 2px rgba(60, 64, 67, 0.3), 0px 1px 3px 1px rgba(60, 64, 67, 0.15);\n",
              "      fill: #174EA6;\n",
              "    }\n",
              "\n",
              "    .colab-df-buttons div {\n",
              "      margin-bottom: 4px;\n",
              "    }\n",
              "\n",
              "    [theme=dark] .colab-df-convert {\n",
              "      background-color: #3B4455;\n",
              "      fill: #D2E3FC;\n",
              "    }\n",
              "\n",
              "    [theme=dark] .colab-df-convert:hover {\n",
              "      background-color: #434B5C;\n",
              "      box-shadow: 0px 1px 3px 1px rgba(0, 0, 0, 0.15);\n",
              "      filter: drop-shadow(0px 1px 2px rgba(0, 0, 0, 0.3));\n",
              "      fill: #FFFFFF;\n",
              "    }\n",
              "  </style>\n",
              "\n",
              "    <script>\n",
              "      const buttonEl =\n",
              "        document.querySelector('#df-cac19c83-24cb-4f70-9ebd-ffb377844eea button.colab-df-convert');\n",
              "      buttonEl.style.display =\n",
              "        google.colab.kernel.accessAllowed ? 'block' : 'none';\n",
              "\n",
              "      async function convertToInteractive(key) {\n",
              "        const element = document.querySelector('#df-cac19c83-24cb-4f70-9ebd-ffb377844eea');\n",
              "        const dataTable =\n",
              "          await google.colab.kernel.invokeFunction('convertToInteractive',\n",
              "                                                    [key], {});\n",
              "        if (!dataTable) return;\n",
              "\n",
              "        const docLinkHtml = 'Like what you see? Visit the ' +\n",
              "          '<a target=\"_blank\" href=https://colab.research.google.com/notebooks/data_table.ipynb>data table notebook</a>'\n",
              "          + ' to learn more about interactive tables.';\n",
              "        element.innerHTML = '';\n",
              "        dataTable['output_type'] = 'display_data';\n",
              "        await google.colab.output.renderOutput(dataTable, element);\n",
              "        const docLink = document.createElement('div');\n",
              "        docLink.innerHTML = docLinkHtml;\n",
              "        element.appendChild(docLink);\n",
              "      }\n",
              "    </script>\n",
              "  </div>\n",
              "\n",
              "\n",
              "<div id=\"df-226854a4-72a3-4252-8c24-c0bd7fe2a3d8\">\n",
              "  <button class=\"colab-df-quickchart\" onclick=\"quickchart('df-226854a4-72a3-4252-8c24-c0bd7fe2a3d8')\"\n",
              "            title=\"Suggest charts\"\n",
              "            style=\"display:none;\">\n",
              "\n",
              "<svg xmlns=\"http://www.w3.org/2000/svg\" height=\"24px\"viewBox=\"0 0 24 24\"\n",
              "     width=\"24px\">\n",
              "    <g>\n",
              "        <path d=\"M19 3H5c-1.1 0-2 .9-2 2v14c0 1.1.9 2 2 2h14c1.1 0 2-.9 2-2V5c0-1.1-.9-2-2-2zM9 17H7v-7h2v7zm4 0h-2V7h2v10zm4 0h-2v-4h2v4z\"/>\n",
              "    </g>\n",
              "</svg>\n",
              "  </button>\n",
              "\n",
              "<style>\n",
              "  .colab-df-quickchart {\n",
              "      --bg-color: #E8F0FE;\n",
              "      --fill-color: #1967D2;\n",
              "      --hover-bg-color: #E2EBFA;\n",
              "      --hover-fill-color: #174EA6;\n",
              "      --disabled-fill-color: #AAA;\n",
              "      --disabled-bg-color: #DDD;\n",
              "  }\n",
              "\n",
              "  [theme=dark] .colab-df-quickchart {\n",
              "      --bg-color: #3B4455;\n",
              "      --fill-color: #D2E3FC;\n",
              "      --hover-bg-color: #434B5C;\n",
              "      --hover-fill-color: #FFFFFF;\n",
              "      --disabled-bg-color: #3B4455;\n",
              "      --disabled-fill-color: #666;\n",
              "  }\n",
              "\n",
              "  .colab-df-quickchart {\n",
              "    background-color: var(--bg-color);\n",
              "    border: none;\n",
              "    border-radius: 50%;\n",
              "    cursor: pointer;\n",
              "    display: none;\n",
              "    fill: var(--fill-color);\n",
              "    height: 32px;\n",
              "    padding: 0;\n",
              "    width: 32px;\n",
              "  }\n",
              "\n",
              "  .colab-df-quickchart:hover {\n",
              "    background-color: var(--hover-bg-color);\n",
              "    box-shadow: 0 1px 2px rgba(60, 64, 67, 0.3), 0 1px 3px 1px rgba(60, 64, 67, 0.15);\n",
              "    fill: var(--button-hover-fill-color);\n",
              "  }\n",
              "\n",
              "  .colab-df-quickchart-complete:disabled,\n",
              "  .colab-df-quickchart-complete:disabled:hover {\n",
              "    background-color: var(--disabled-bg-color);\n",
              "    fill: var(--disabled-fill-color);\n",
              "    box-shadow: none;\n",
              "  }\n",
              "\n",
              "  .colab-df-spinner {\n",
              "    border: 2px solid var(--fill-color);\n",
              "    border-color: transparent;\n",
              "    border-bottom-color: var(--fill-color);\n",
              "    animation:\n",
              "      spin 1s steps(1) infinite;\n",
              "  }\n",
              "\n",
              "  @keyframes spin {\n",
              "    0% {\n",
              "      border-color: transparent;\n",
              "      border-bottom-color: var(--fill-color);\n",
              "      border-left-color: var(--fill-color);\n",
              "    }\n",
              "    20% {\n",
              "      border-color: transparent;\n",
              "      border-left-color: var(--fill-color);\n",
              "      border-top-color: var(--fill-color);\n",
              "    }\n",
              "    30% {\n",
              "      border-color: transparent;\n",
              "      border-left-color: var(--fill-color);\n",
              "      border-top-color: var(--fill-color);\n",
              "      border-right-color: var(--fill-color);\n",
              "    }\n",
              "    40% {\n",
              "      border-color: transparent;\n",
              "      border-right-color: var(--fill-color);\n",
              "      border-top-color: var(--fill-color);\n",
              "    }\n",
              "    60% {\n",
              "      border-color: transparent;\n",
              "      border-right-color: var(--fill-color);\n",
              "    }\n",
              "    80% {\n",
              "      border-color: transparent;\n",
              "      border-right-color: var(--fill-color);\n",
              "      border-bottom-color: var(--fill-color);\n",
              "    }\n",
              "    90% {\n",
              "      border-color: transparent;\n",
              "      border-bottom-color: var(--fill-color);\n",
              "    }\n",
              "  }\n",
              "</style>\n",
              "\n",
              "  <script>\n",
              "    async function quickchart(key) {\n",
              "      const quickchartButtonEl =\n",
              "        document.querySelector('#' + key + ' button');\n",
              "      quickchartButtonEl.disabled = true;  // To prevent multiple clicks.\n",
              "      quickchartButtonEl.classList.add('colab-df-spinner');\n",
              "      try {\n",
              "        const charts = await google.colab.kernel.invokeFunction(\n",
              "            'suggestCharts', [key], {});\n",
              "      } catch (error) {\n",
              "        console.error('Error during call to suggestCharts:', error);\n",
              "      }\n",
              "      quickchartButtonEl.classList.remove('colab-df-spinner');\n",
              "      quickchartButtonEl.classList.add('colab-df-quickchart-complete');\n",
              "    }\n",
              "    (() => {\n",
              "      let quickchartButtonEl =\n",
              "        document.querySelector('#df-226854a4-72a3-4252-8c24-c0bd7fe2a3d8 button');\n",
              "      quickchartButtonEl.style.display =\n",
              "        google.colab.kernel.accessAllowed ? 'block' : 'none';\n",
              "    })();\n",
              "  </script>\n",
              "</div>\n",
              "\n",
              "    </div>\n",
              "  </div>\n"
            ],
            "application/vnd.google.colaboratory.intrinsic+json": {
              "type": "dataframe",
              "summary": "{\n  \"name\": \"create_dataframe(rows=5,cols=3)\",\n  \"rows\": 5,\n  \"fields\": [\n    {\n      \"column\": 0,\n      \"properties\": {\n        \"dtype\": \"number\",\n        \"std\": 27,\n        \"min\": 26,\n        \"max\": 97,\n        \"num_unique_values\": 5,\n        \"samples\": [\n          91,\n          70,\n          68\n        ],\n        \"semantic_type\": \"\",\n        \"description\": \"\"\n      }\n    },\n    {\n      \"column\": 1,\n      \"properties\": {\n        \"dtype\": \"number\",\n        \"std\": 15,\n        \"min\": 47,\n        \"max\": 86,\n        \"num_unique_values\": 5,\n        \"samples\": [\n          61,\n          77,\n          47\n        ],\n        \"semantic_type\": \"\",\n        \"description\": \"\"\n      }\n    },\n    {\n      \"column\": 2,\n      \"properties\": {\n        \"dtype\": \"number\",\n        \"std\": 28,\n        \"min\": 9,\n        \"max\": 75,\n        \"num_unique_values\": 5,\n        \"samples\": [\n          10,\n          75,\n          9\n        ],\n        \"semantic_type\": \"\",\n        \"description\": \"\"\n      }\n    }\n  ]\n}"
            }
          },
          "metadata": {},
          "execution_count": 36
        }
      ]
    },
    {
      "cell_type": "code",
      "source": [
        "## 25. Write a function that takes a Pandas DataFrame and replaces all negative values in a specific column\n",
        "## with zeros. Use NumPy operations within the Pandas DataFrame.\n",
        "def replace_negative(df):\n",
        "  df[\"A\"]=df[\"A\"].apply(lambda x:0 if x<0 else x)\n",
        "  return df\n"
      ],
      "metadata": {
        "id": "uINJhBKSdCUX"
      },
      "execution_count": 37,
      "outputs": []
    },
    {
      "cell_type": "code",
      "source": [
        "import pandas as pd\n",
        "data = {'A': [1, -2, 3, -4, 5], 'B': [6, 7, -8, 9, 10]}\n",
        "df = pd.DataFrame(data)\n",
        "replace_negative(df)\n"
      ],
      "metadata": {
        "colab": {
          "base_uri": "https://localhost:8080/",
          "height": 206
        },
        "id": "06C4lH2QIlg1",
        "outputId": "8f950160-3d47-433c-9dd0-ab04031211f8"
      },
      "execution_count": 38,
      "outputs": [
        {
          "output_type": "execute_result",
          "data": {
            "text/plain": [
              "   A   B\n",
              "0  1   6\n",
              "1  0   7\n",
              "2  3  -8\n",
              "3  0   9\n",
              "4  5  10"
            ],
            "text/html": [
              "\n",
              "  <div id=\"df-8a1b5c79-6565-4d05-9979-6e52d81fbd42\" class=\"colab-df-container\">\n",
              "    <div>\n",
              "<style scoped>\n",
              "    .dataframe tbody tr th:only-of-type {\n",
              "        vertical-align: middle;\n",
              "    }\n",
              "\n",
              "    .dataframe tbody tr th {\n",
              "        vertical-align: top;\n",
              "    }\n",
              "\n",
              "    .dataframe thead th {\n",
              "        text-align: right;\n",
              "    }\n",
              "</style>\n",
              "<table border=\"1\" class=\"dataframe\">\n",
              "  <thead>\n",
              "    <tr style=\"text-align: right;\">\n",
              "      <th></th>\n",
              "      <th>A</th>\n",
              "      <th>B</th>\n",
              "    </tr>\n",
              "  </thead>\n",
              "  <tbody>\n",
              "    <tr>\n",
              "      <th>0</th>\n",
              "      <td>1</td>\n",
              "      <td>6</td>\n",
              "    </tr>\n",
              "    <tr>\n",
              "      <th>1</th>\n",
              "      <td>0</td>\n",
              "      <td>7</td>\n",
              "    </tr>\n",
              "    <tr>\n",
              "      <th>2</th>\n",
              "      <td>3</td>\n",
              "      <td>-8</td>\n",
              "    </tr>\n",
              "    <tr>\n",
              "      <th>3</th>\n",
              "      <td>0</td>\n",
              "      <td>9</td>\n",
              "    </tr>\n",
              "    <tr>\n",
              "      <th>4</th>\n",
              "      <td>5</td>\n",
              "      <td>10</td>\n",
              "    </tr>\n",
              "  </tbody>\n",
              "</table>\n",
              "</div>\n",
              "    <div class=\"colab-df-buttons\">\n",
              "\n",
              "  <div class=\"colab-df-container\">\n",
              "    <button class=\"colab-df-convert\" onclick=\"convertToInteractive('df-8a1b5c79-6565-4d05-9979-6e52d81fbd42')\"\n",
              "            title=\"Convert this dataframe to an interactive table.\"\n",
              "            style=\"display:none;\">\n",
              "\n",
              "  <svg xmlns=\"http://www.w3.org/2000/svg\" height=\"24px\" viewBox=\"0 -960 960 960\">\n",
              "    <path d=\"M120-120v-720h720v720H120Zm60-500h600v-160H180v160Zm220 220h160v-160H400v160Zm0 220h160v-160H400v160ZM180-400h160v-160H180v160Zm440 0h160v-160H620v160ZM180-180h160v-160H180v160Zm440 0h160v-160H620v160Z\"/>\n",
              "  </svg>\n",
              "    </button>\n",
              "\n",
              "  <style>\n",
              "    .colab-df-container {\n",
              "      display:flex;\n",
              "      gap: 12px;\n",
              "    }\n",
              "\n",
              "    .colab-df-convert {\n",
              "      background-color: #E8F0FE;\n",
              "      border: none;\n",
              "      border-radius: 50%;\n",
              "      cursor: pointer;\n",
              "      display: none;\n",
              "      fill: #1967D2;\n",
              "      height: 32px;\n",
              "      padding: 0 0 0 0;\n",
              "      width: 32px;\n",
              "    }\n",
              "\n",
              "    .colab-df-convert:hover {\n",
              "      background-color: #E2EBFA;\n",
              "      box-shadow: 0px 1px 2px rgba(60, 64, 67, 0.3), 0px 1px 3px 1px rgba(60, 64, 67, 0.15);\n",
              "      fill: #174EA6;\n",
              "    }\n",
              "\n",
              "    .colab-df-buttons div {\n",
              "      margin-bottom: 4px;\n",
              "    }\n",
              "\n",
              "    [theme=dark] .colab-df-convert {\n",
              "      background-color: #3B4455;\n",
              "      fill: #D2E3FC;\n",
              "    }\n",
              "\n",
              "    [theme=dark] .colab-df-convert:hover {\n",
              "      background-color: #434B5C;\n",
              "      box-shadow: 0px 1px 3px 1px rgba(0, 0, 0, 0.15);\n",
              "      filter: drop-shadow(0px 1px 2px rgba(0, 0, 0, 0.3));\n",
              "      fill: #FFFFFF;\n",
              "    }\n",
              "  </style>\n",
              "\n",
              "    <script>\n",
              "      const buttonEl =\n",
              "        document.querySelector('#df-8a1b5c79-6565-4d05-9979-6e52d81fbd42 button.colab-df-convert');\n",
              "      buttonEl.style.display =\n",
              "        google.colab.kernel.accessAllowed ? 'block' : 'none';\n",
              "\n",
              "      async function convertToInteractive(key) {\n",
              "        const element = document.querySelector('#df-8a1b5c79-6565-4d05-9979-6e52d81fbd42');\n",
              "        const dataTable =\n",
              "          await google.colab.kernel.invokeFunction('convertToInteractive',\n",
              "                                                    [key], {});\n",
              "        if (!dataTable) return;\n",
              "\n",
              "        const docLinkHtml = 'Like what you see? Visit the ' +\n",
              "          '<a target=\"_blank\" href=https://colab.research.google.com/notebooks/data_table.ipynb>data table notebook</a>'\n",
              "          + ' to learn more about interactive tables.';\n",
              "        element.innerHTML = '';\n",
              "        dataTable['output_type'] = 'display_data';\n",
              "        await google.colab.output.renderOutput(dataTable, element);\n",
              "        const docLink = document.createElement('div');\n",
              "        docLink.innerHTML = docLinkHtml;\n",
              "        element.appendChild(docLink);\n",
              "      }\n",
              "    </script>\n",
              "  </div>\n",
              "\n",
              "\n",
              "<div id=\"df-7ac8d09f-e15b-4806-83c8-692ebb974ed5\">\n",
              "  <button class=\"colab-df-quickchart\" onclick=\"quickchart('df-7ac8d09f-e15b-4806-83c8-692ebb974ed5')\"\n",
              "            title=\"Suggest charts\"\n",
              "            style=\"display:none;\">\n",
              "\n",
              "<svg xmlns=\"http://www.w3.org/2000/svg\" height=\"24px\"viewBox=\"0 0 24 24\"\n",
              "     width=\"24px\">\n",
              "    <g>\n",
              "        <path d=\"M19 3H5c-1.1 0-2 .9-2 2v14c0 1.1.9 2 2 2h14c1.1 0 2-.9 2-2V5c0-1.1-.9-2-2-2zM9 17H7v-7h2v7zm4 0h-2V7h2v10zm4 0h-2v-4h2v4z\"/>\n",
              "    </g>\n",
              "</svg>\n",
              "  </button>\n",
              "\n",
              "<style>\n",
              "  .colab-df-quickchart {\n",
              "      --bg-color: #E8F0FE;\n",
              "      --fill-color: #1967D2;\n",
              "      --hover-bg-color: #E2EBFA;\n",
              "      --hover-fill-color: #174EA6;\n",
              "      --disabled-fill-color: #AAA;\n",
              "      --disabled-bg-color: #DDD;\n",
              "  }\n",
              "\n",
              "  [theme=dark] .colab-df-quickchart {\n",
              "      --bg-color: #3B4455;\n",
              "      --fill-color: #D2E3FC;\n",
              "      --hover-bg-color: #434B5C;\n",
              "      --hover-fill-color: #FFFFFF;\n",
              "      --disabled-bg-color: #3B4455;\n",
              "      --disabled-fill-color: #666;\n",
              "  }\n",
              "\n",
              "  .colab-df-quickchart {\n",
              "    background-color: var(--bg-color);\n",
              "    border: none;\n",
              "    border-radius: 50%;\n",
              "    cursor: pointer;\n",
              "    display: none;\n",
              "    fill: var(--fill-color);\n",
              "    height: 32px;\n",
              "    padding: 0;\n",
              "    width: 32px;\n",
              "  }\n",
              "\n",
              "  .colab-df-quickchart:hover {\n",
              "    background-color: var(--hover-bg-color);\n",
              "    box-shadow: 0 1px 2px rgba(60, 64, 67, 0.3), 0 1px 3px 1px rgba(60, 64, 67, 0.15);\n",
              "    fill: var(--button-hover-fill-color);\n",
              "  }\n",
              "\n",
              "  .colab-df-quickchart-complete:disabled,\n",
              "  .colab-df-quickchart-complete:disabled:hover {\n",
              "    background-color: var(--disabled-bg-color);\n",
              "    fill: var(--disabled-fill-color);\n",
              "    box-shadow: none;\n",
              "  }\n",
              "\n",
              "  .colab-df-spinner {\n",
              "    border: 2px solid var(--fill-color);\n",
              "    border-color: transparent;\n",
              "    border-bottom-color: var(--fill-color);\n",
              "    animation:\n",
              "      spin 1s steps(1) infinite;\n",
              "  }\n",
              "\n",
              "  @keyframes spin {\n",
              "    0% {\n",
              "      border-color: transparent;\n",
              "      border-bottom-color: var(--fill-color);\n",
              "      border-left-color: var(--fill-color);\n",
              "    }\n",
              "    20% {\n",
              "      border-color: transparent;\n",
              "      border-left-color: var(--fill-color);\n",
              "      border-top-color: var(--fill-color);\n",
              "    }\n",
              "    30% {\n",
              "      border-color: transparent;\n",
              "      border-left-color: var(--fill-color);\n",
              "      border-top-color: var(--fill-color);\n",
              "      border-right-color: var(--fill-color);\n",
              "    }\n",
              "    40% {\n",
              "      border-color: transparent;\n",
              "      border-right-color: var(--fill-color);\n",
              "      border-top-color: var(--fill-color);\n",
              "    }\n",
              "    60% {\n",
              "      border-color: transparent;\n",
              "      border-right-color: var(--fill-color);\n",
              "    }\n",
              "    80% {\n",
              "      border-color: transparent;\n",
              "      border-right-color: var(--fill-color);\n",
              "      border-bottom-color: var(--fill-color);\n",
              "    }\n",
              "    90% {\n",
              "      border-color: transparent;\n",
              "      border-bottom-color: var(--fill-color);\n",
              "    }\n",
              "  }\n",
              "</style>\n",
              "\n",
              "  <script>\n",
              "    async function quickchart(key) {\n",
              "      const quickchartButtonEl =\n",
              "        document.querySelector('#' + key + ' button');\n",
              "      quickchartButtonEl.disabled = true;  // To prevent multiple clicks.\n",
              "      quickchartButtonEl.classList.add('colab-df-spinner');\n",
              "      try {\n",
              "        const charts = await google.colab.kernel.invokeFunction(\n",
              "            'suggestCharts', [key], {});\n",
              "      } catch (error) {\n",
              "        console.error('Error during call to suggestCharts:', error);\n",
              "      }\n",
              "      quickchartButtonEl.classList.remove('colab-df-spinner');\n",
              "      quickchartButtonEl.classList.add('colab-df-quickchart-complete');\n",
              "    }\n",
              "    (() => {\n",
              "      let quickchartButtonEl =\n",
              "        document.querySelector('#df-7ac8d09f-e15b-4806-83c8-692ebb974ed5 button');\n",
              "      quickchartButtonEl.style.display =\n",
              "        google.colab.kernel.accessAllowed ? 'block' : 'none';\n",
              "    })();\n",
              "  </script>\n",
              "</div>\n",
              "\n",
              "  <div id=\"id_0aa930ab-967e-463c-9bd3-791196b8f0c7\">\n",
              "    <style>\n",
              "      .colab-df-generate {\n",
              "        background-color: #E8F0FE;\n",
              "        border: none;\n",
              "        border-radius: 50%;\n",
              "        cursor: pointer;\n",
              "        display: none;\n",
              "        fill: #1967D2;\n",
              "        height: 32px;\n",
              "        padding: 0 0 0 0;\n",
              "        width: 32px;\n",
              "      }\n",
              "\n",
              "      .colab-df-generate:hover {\n",
              "        background-color: #E2EBFA;\n",
              "        box-shadow: 0px 1px 2px rgba(60, 64, 67, 0.3), 0px 1px 3px 1px rgba(60, 64, 67, 0.15);\n",
              "        fill: #174EA6;\n",
              "      }\n",
              "\n",
              "      [theme=dark] .colab-df-generate {\n",
              "        background-color: #3B4455;\n",
              "        fill: #D2E3FC;\n",
              "      }\n",
              "\n",
              "      [theme=dark] .colab-df-generate:hover {\n",
              "        background-color: #434B5C;\n",
              "        box-shadow: 0px 1px 3px 1px rgba(0, 0, 0, 0.15);\n",
              "        filter: drop-shadow(0px 1px 2px rgba(0, 0, 0, 0.3));\n",
              "        fill: #FFFFFF;\n",
              "      }\n",
              "    </style>\n",
              "    <button class=\"colab-df-generate\" onclick=\"generateWithVariable('df')\"\n",
              "            title=\"Generate code using this dataframe.\"\n",
              "            style=\"display:none;\">\n",
              "\n",
              "  <svg xmlns=\"http://www.w3.org/2000/svg\" height=\"24px\"viewBox=\"0 0 24 24\"\n",
              "       width=\"24px\">\n",
              "    <path d=\"M7,19H8.4L18.45,9,17,7.55,7,17.6ZM5,21V16.75L18.45,3.32a2,2,0,0,1,2.83,0l1.4,1.43a1.91,1.91,0,0,1,.58,1.4,1.91,1.91,0,0,1-.58,1.4L9.25,21ZM18.45,9,17,7.55Zm-12,3A5.31,5.31,0,0,0,4.9,8.1,5.31,5.31,0,0,0,1,6.5,5.31,5.31,0,0,0,4.9,4.9,5.31,5.31,0,0,0,6.5,1,5.31,5.31,0,0,0,8.1,4.9,5.31,5.31,0,0,0,12,6.5,5.46,5.46,0,0,0,6.5,12Z\"/>\n",
              "  </svg>\n",
              "    </button>\n",
              "    <script>\n",
              "      (() => {\n",
              "      const buttonEl =\n",
              "        document.querySelector('#id_0aa930ab-967e-463c-9bd3-791196b8f0c7 button.colab-df-generate');\n",
              "      buttonEl.style.display =\n",
              "        google.colab.kernel.accessAllowed ? 'block' : 'none';\n",
              "\n",
              "      buttonEl.onclick = () => {\n",
              "        google.colab.notebook.generateWithVariable('df');\n",
              "      }\n",
              "      })();\n",
              "    </script>\n",
              "  </div>\n",
              "\n",
              "    </div>\n",
              "  </div>\n"
            ],
            "application/vnd.google.colaboratory.intrinsic+json": {
              "type": "dataframe",
              "variable_name": "df",
              "summary": "{\n  \"name\": \"df\",\n  \"rows\": 5,\n  \"fields\": [\n    {\n      \"column\": \"A\",\n      \"properties\": {\n        \"dtype\": \"number\",\n        \"std\": 2,\n        \"min\": 0,\n        \"max\": 5,\n        \"num_unique_values\": 4,\n        \"samples\": [\n          0,\n          5,\n          1\n        ],\n        \"semantic_type\": \"\",\n        \"description\": \"\"\n      }\n    },\n    {\n      \"column\": \"B\",\n      \"properties\": {\n        \"dtype\": \"number\",\n        \"std\": 7,\n        \"min\": -8,\n        \"max\": 10,\n        \"num_unique_values\": 5,\n        \"samples\": [\n          7,\n          10,\n          -8\n        ],\n        \"semantic_type\": \"\",\n        \"description\": \"\"\n      }\n    }\n  ]\n}"
            }
          },
          "metadata": {},
          "execution_count": 38
        }
      ]
    },
    {
      "cell_type": "code",
      "source": [
        "## 26.## acess third element given numpay array\n",
        "arr=np.array([10,20,30,40,50])\n",
        "arr[3]"
      ],
      "metadata": {
        "colab": {
          "base_uri": "https://localhost:8080/"
        },
        "id": "nQytldROdCXY",
        "outputId": "8858b8e6-9a87-4dc2-f6ce-ea128d3752ab"
      },
      "execution_count": 39,
      "outputs": [
        {
          "output_type": "execute_result",
          "data": {
            "text/plain": [
              "40"
            ]
          },
          "metadata": {},
          "execution_count": 39
        }
      ]
    },
    {
      "cell_type": "code",
      "source": [
        "## retrieve the element at index(1,2) form the 2d numpy array\n",
        "arr_2d=np.array([[1,2,3],[4,5,6],[7,8,9]])"
      ],
      "metadata": {
        "id": "epMxXe3rdCa1"
      },
      "execution_count": 40,
      "outputs": []
    },
    {
      "cell_type": "code",
      "source": [
        "arr_2d"
      ],
      "metadata": {
        "colab": {
          "base_uri": "https://localhost:8080/"
        },
        "id": "JewRxYQUdCoP",
        "outputId": "db75304b-273c-4d63-f1c8-882431a3527d"
      },
      "execution_count": 41,
      "outputs": [
        {
          "output_type": "execute_result",
          "data": {
            "text/plain": [
              "array([[1, 2, 3],\n",
              "       [4, 5, 6],\n",
              "       [7, 8, 9]])"
            ]
          },
          "metadata": {},
          "execution_count": 41
        }
      ]
    },
    {
      "cell_type": "code",
      "source": [
        "arr_2d[1][2]"
      ],
      "metadata": {
        "colab": {
          "base_uri": "https://localhost:8080/"
        },
        "id": "4zlEiBFMg2Y5",
        "outputId": "9a82213c-0c8a-4d47-f983-ffcbe1b0ca11"
      },
      "execution_count": 42,
      "outputs": [
        {
          "output_type": "execute_result",
          "data": {
            "text/plain": [
              "6"
            ]
          },
          "metadata": {},
          "execution_count": 42
        }
      ]
    },
    {
      "cell_type": "code",
      "source": [
        "## 28.using boolean indexing,extract element greater than 5 from given numpy array\n",
        "arr=np.array([3,8,2,10,5,7])\n",
        "arr"
      ],
      "metadata": {
        "colab": {
          "base_uri": "https://localhost:8080/"
        },
        "id": "tX01lzxIiObz",
        "outputId": "90bad8d6-ddec-42a0-8675-55c1d75b5ee4"
      },
      "execution_count": 43,
      "outputs": [
        {
          "output_type": "execute_result",
          "data": {
            "text/plain": [
              "array([ 3,  8,  2, 10,  5,  7])"
            ]
          },
          "metadata": {},
          "execution_count": 43
        }
      ]
    },
    {
      "cell_type": "code",
      "source": [
        "arr[arr>5]"
      ],
      "metadata": {
        "colab": {
          "base_uri": "https://localhost:8080/"
        },
        "id": "r1I-EVFhiOh7",
        "outputId": "86f564c0-16e0-472e-d2bb-de63cbc0066d"
      },
      "execution_count": 44,
      "outputs": [
        {
          "output_type": "execute_result",
          "data": {
            "text/plain": [
              "array([ 8, 10,  7])"
            ]
          },
          "metadata": {},
          "execution_count": 44
        }
      ]
    },
    {
      "cell_type": "code",
      "source": [
        "## 29.perform basis slicing to extract element  from index 2 to 5(inclusive) from the given numpay array.\n",
        "arr=np.array([1,2,3,4,5,6,7,8,9])\n",
        "arr[2:6]"
      ],
      "metadata": {
        "colab": {
          "base_uri": "https://localhost:8080/"
        },
        "id": "xQnBwwf-iOlf",
        "outputId": "f1863cb7-d3cb-46ce-f455-97c7e987e604"
      },
      "execution_count": 45,
      "outputs": [
        {
          "output_type": "execute_result",
          "data": {
            "text/plain": [
              "array([3, 4, 5, 6])"
            ]
          },
          "metadata": {},
          "execution_count": 45
        }
      ]
    },
    {
      "cell_type": "code",
      "source": [
        "## 30 slice 2d numpay array to extract sub-array[[2,3]],[[5,6]] from the given numpay array.\n",
        "arr_2d=np.array([[1,2,3],[4,5,6],[7,8,9]])"
      ],
      "metadata": {
        "id": "_NU5sOEEiOpI"
      },
      "execution_count": 46,
      "outputs": []
    },
    {
      "cell_type": "code",
      "source": [
        "arr_2d[0:2,1:3] ,arr_2d\n"
      ],
      "metadata": {
        "colab": {
          "base_uri": "https://localhost:8080/"
        },
        "id": "_HwENbOBiOt4",
        "outputId": "365f30d8-2bce-43fc-f94c-6460031acd33"
      },
      "execution_count": 47,
      "outputs": [
        {
          "output_type": "execute_result",
          "data": {
            "text/plain": [
              "(array([[2, 3],\n",
              "        [5, 6]]),\n",
              " array([[1, 2, 3],\n",
              "        [4, 5, 6],\n",
              "        [7, 8, 9]]))"
            ]
          },
          "metadata": {},
          "execution_count": 47
        }
      ]
    },
    {
      "cell_type": "code",
      "source": [
        "## 31. wrtie a numpay function to extract element in specific order form the given 2d array based on indices\n",
        "## provided in another numpay array\n",
        "def extract_elements(arr_2d,indices):\n",
        "  return arr_2d[tuple(indices.T)]\n",
        "\n"
      ],
      "metadata": {
        "id": "1zXXByU7dY3J"
      },
      "execution_count": 48,
      "outputs": []
    },
    {
      "cell_type": "code",
      "source": [
        "extract_elements(arr_2d=np.array([[1,2,3],[4,5,6],[7,8,9]]),indices=np.array([[0,2],[2,0],[1,2]]))"
      ],
      "metadata": {
        "colab": {
          "base_uri": "https://localhost:8080/"
        },
        "id": "_bbdPHV3dZAO",
        "outputId": "d6a640d0-ea91-4bd1-f7f2-39a54a206f3e"
      },
      "execution_count": 49,
      "outputs": [
        {
          "output_type": "execute_result",
          "data": {
            "text/plain": [
              "array([3, 7, 6])"
            ]
          },
          "metadata": {},
          "execution_count": 49
        }
      ]
    },
    {
      "cell_type": "code",
      "source": [
        "## 32.create a numpay function that filter the element greather than threshold from given  1d array using boolean indexing\n",
        "def filter_elements(arr,threshold):\n",
        "  return arr[arr>threshold]"
      ],
      "metadata": {
        "id": "l3JM4sXk7IUN"
      },
      "execution_count": 50,
      "outputs": []
    },
    {
      "cell_type": "code",
      "source": [
        "filter_elements(np.array([1,2,3,4,5,6,7,8,9,10,11]),threshold=5)"
      ],
      "metadata": {
        "colab": {
          "base_uri": "https://localhost:8080/"
        },
        "id": "iHbxjJub7Iae",
        "outputId": "7e5adfef-6d6d-48f7-b107-05c403fb51c5"
      },
      "execution_count": 51,
      "outputs": [
        {
          "output_type": "execute_result",
          "data": {
            "text/plain": [
              "array([ 6,  7,  8,  9, 10, 11])"
            ]
          },
          "metadata": {},
          "execution_count": 51
        }
      ]
    },
    {
      "cell_type": "code",
      "source": [
        "import numpy as np\n",
        "##33.develop a numpay function that extract specific elements from 3d array using indices provided in three seperate array for each dimension\n",
        "def extract_elements(arr_3d,indices_x,indices_y,indices_z):\n",
        "  print(arr_3d)\n",
        "  return arr_3d[indices_x,indices_y,indices_z]"
      ],
      "metadata": {
        "id": "8cj5fIur7Id8"
      },
      "execution_count": 52,
      "outputs": []
    },
    {
      "cell_type": "code",
      "source": [
        "extract_elements(arr_3d=np.array([[[1,2,3],[4,5,6],[7,8,9]]]),indices_x=np.array([0]),indices_y=np.array([1]),indices_z=np.array([2]))"
      ],
      "metadata": {
        "colab": {
          "base_uri": "https://localhost:8080/"
        },
        "id": "0AZcfJzHdZDD",
        "outputId": "ba5f5d37-6171-45de-8dd9-958fadf94b13"
      },
      "execution_count": 53,
      "outputs": [
        {
          "output_type": "stream",
          "name": "stdout",
          "text": [
            "[[[1 2 3]\n",
            "  [4 5 6]\n",
            "  [7 8 9]]]\n"
          ]
        },
        {
          "output_type": "execute_result",
          "data": {
            "text/plain": [
              "array([6])"
            ]
          },
          "metadata": {},
          "execution_count": 53
        }
      ]
    },
    {
      "cell_type": "code",
      "source": [
        "##34. write a numpay function that return elements form an array where both condition are satisfied using boolean indexing.\n",
        "def filter_elements(arr,condition1,condition2):\n",
        "  return arr[(arr>condition1)& (arr<condition2)]"
      ],
      "metadata": {
        "id": "ta8V8r-IkYaP"
      },
      "execution_count": 54,
      "outputs": []
    },
    {
      "cell_type": "code",
      "source": [
        "filter_elements(arr=np.array([1,2,3,4,5,6,7,8,9]),condition1=3,condition2=9)"
      ],
      "metadata": {
        "colab": {
          "base_uri": "https://localhost:8080/"
        },
        "id": "h4BZGvyGdRTw",
        "outputId": "03f75992-57e3-4916-eef7-885b3e87595e"
      },
      "execution_count": 55,
      "outputs": [
        {
          "output_type": "execute_result",
          "data": {
            "text/plain": [
              "array([4, 5, 6, 7, 8])"
            ]
          },
          "metadata": {},
          "execution_count": 55
        }
      ]
    },
    {
      "cell_type": "code",
      "source": [
        "## 35. create a numpay function that extracts  elements form 2d array using row and columns indcies provided in seperate array\n",
        "def extract_elements(arr_2d,row_indices,col_indices):\n",
        "  print(arr_2d)\n",
        "  return arr_2d[row_indices,col_indices]"
      ],
      "metadata": {
        "id": "b2R_hlGPonC0"
      },
      "execution_count": 56,
      "outputs": []
    },
    {
      "cell_type": "code",
      "source": [
        "extract_elements(arr_2d=np.array([[1,2,3],[4,5,6],[7,8,9]]),row_indices=np.array([0,2]),col_indices=np.array([0,2]))"
      ],
      "metadata": {
        "colab": {
          "base_uri": "https://localhost:8080/"
        },
        "id": "LVrdRdVOiPh3",
        "outputId": "80cb32d0-1037-40d8-e122-1a706716d50c"
      },
      "execution_count": 57,
      "outputs": [
        {
          "output_type": "stream",
          "name": "stdout",
          "text": [
            "[[1 2 3]\n",
            " [4 5 6]\n",
            " [7 8 9]]\n"
          ]
        },
        {
          "output_type": "execute_result",
          "data": {
            "text/plain": [
              "array([1, 9])"
            ]
          },
          "metadata": {},
          "execution_count": 57
        }
      ]
    },
    {
      "cell_type": "code",
      "source": [
        "##36. given an array of shape(3,3),add a scalar value of 5 to each elements using numpay broadcasting.\n",
        "def add_scalar(arr1,scalar):\n",
        "  return arr1+scalar"
      ],
      "metadata": {
        "id": "FmGluKwewU__"
      },
      "execution_count": 58,
      "outputs": []
    },
    {
      "cell_type": "code",
      "source": [
        "add_scalar(arr1=np.array([[1,2,3],[4,5,6],[7,8,9]]),scalar=5)"
      ],
      "metadata": {
        "colab": {
          "base_uri": "https://localhost:8080/"
        },
        "id": "KqL6_frcxHrl",
        "outputId": "d69c0b30-d217-4bc9-a598-14463a7dccca"
      },
      "execution_count": 59,
      "outputs": [
        {
          "output_type": "execute_result",
          "data": {
            "text/plain": [
              "array([[ 6,  7,  8],\n",
              "       [ 9, 10, 11],\n",
              "       [12, 13, 14]])"
            ]
          },
          "metadata": {},
          "execution_count": 59
        }
      ]
    },
    {
      "cell_type": "code",
      "source": [
        "## 37.consider two array of shape (1,3) and array shape (3,4).multiply each row of arr2 by the corresponding elements in arr1\n",
        "## using numpay broadcasting.\n",
        "def multiply_rows(arr1,arr2):\n",
        "  arr1=arr1.reshape(3,1)\n",
        "  return arr1*arr2"
      ],
      "metadata": {
        "id": "9SHF2JaiyjZU"
      },
      "execution_count": 60,
      "outputs": []
    },
    {
      "cell_type": "code",
      "source": [
        "multiply_rows(arr1=np.array([[1,2,3]]),arr2=np.array([[1,2,3,4],[4,5,6,7],[8,9,10,11]]))"
      ],
      "metadata": {
        "colab": {
          "base_uri": "https://localhost:8080/"
        },
        "id": "D2M7FQsbz0gb",
        "outputId": "fb304aec-f4e1-45d3-9db7-0f29abff9cce"
      },
      "execution_count": 61,
      "outputs": [
        {
          "output_type": "execute_result",
          "data": {
            "text/plain": [
              "array([[ 1,  2,  3,  4],\n",
              "       [ 8, 10, 12, 14],\n",
              "       [24, 27, 30, 33]])"
            ]
          },
          "metadata": {},
          "execution_count": 61
        }
      ]
    },
    {
      "cell_type": "code",
      "source": [
        "## 38.given 1d array arr1 of shape (1,4) and a 2d array of shape (4,3), add arr1 to each row of arr2 using numpay bordcasting.\n",
        "def add_rows(arr1,arr2):\n",
        "\n",
        "  return arr1+arr2\n"
      ],
      "metadata": {
        "id": "-F-jDIgy3oqc"
      },
      "execution_count": 62,
      "outputs": []
    },
    {
      "cell_type": "code",
      "source": [
        "add_rows(arr1=np.array([1,2,3,4]),arr2=np.array([[1,2,3,4],[5,6,7,8],[9,10,11,12]]))"
      ],
      "metadata": {
        "colab": {
          "base_uri": "https://localhost:8080/"
        },
        "id": "hx0pAkug3pIW",
        "outputId": "73784fee-23cc-4729-c09e-7c54589635c5"
      },
      "execution_count": 63,
      "outputs": [
        {
          "output_type": "execute_result",
          "data": {
            "text/plain": [
              "array([[ 2,  4,  6,  8],\n",
              "       [ 6,  8, 10, 12],\n",
              "       [10, 12, 14, 16]])"
            ]
          },
          "metadata": {},
          "execution_count": 63
        }
      ]
    },
    {
      "cell_type": "code",
      "source": [
        "arr_2d=np.array([[1,2,3],[4,5,6],[7,8,9]])"
      ],
      "metadata": {
        "id": "FkFKkw8vvP5L"
      },
      "execution_count": 64,
      "outputs": []
    },
    {
      "cell_type": "code",
      "source": [
        "import numpy as np\n",
        "## 39. consider two array  arr1 of shape(3,1) and array shape(1,3) add these two array numpay broacasting\n",
        "def add_arrays(arr1,arr2):\n",
        "  return arr1+arr2\n"
      ],
      "metadata": {
        "id": "29i7lR3qvQIN"
      },
      "execution_count": 65,
      "outputs": []
    },
    {
      "cell_type": "code",
      "source": [
        "add_arrays(np.array([[1],[2],[3]]),arr2=np.array([4,5,6]))"
      ],
      "metadata": {
        "colab": {
          "base_uri": "https://localhost:8080/"
        },
        "id": "WIsdyT-e8Npy",
        "outputId": "fe85b9a5-245b-4741-c2cd-523414437efc"
      },
      "execution_count": 66,
      "outputs": [
        {
          "output_type": "execute_result",
          "data": {
            "text/plain": [
              "array([[5, 6, 7],\n",
              "       [6, 7, 8],\n",
              "       [7, 8, 9]])"
            ]
          },
          "metadata": {},
          "execution_count": 66
        }
      ]
    },
    {
      "cell_type": "code",
      "source": [
        "##40. Given arrays arr1 of shape (2, 3) and arr2 of shape (2, 2), perform multiplication using NumPy\n",
        "## broadcasting. Handle the shape incompatibility\n",
        "arr1 = np.array([[1, 2, 3], [4, 5, 6]])\n",
        "arr2 = np.array([[10, 20], [30, 40]])\n",
        "arr2_reshaped=arr2[:,np.newaxis,:]\n",
        "result=arr1[:,:,np.newaxis]*arr2_reshaped\n",
        "print(result)\n",
        "\n"
      ],
      "metadata": {
        "id": "zf337Aea8NtS",
        "colab": {
          "base_uri": "https://localhost:8080/"
        },
        "outputId": "2a6eb669-ac20-46de-ca47-150523bb9553"
      },
      "execution_count": 67,
      "outputs": [
        {
          "output_type": "stream",
          "name": "stdout",
          "text": [
            "[[[ 10  20]\n",
            "  [ 20  40]\n",
            "  [ 30  60]]\n",
            "\n",
            " [[120 160]\n",
            "  [150 200]\n",
            "  [180 240]]]\n"
          ]
        }
      ]
    },
    {
      "cell_type": "code",
      "source": [
        "## 41.calculate coloumn wise mean  for the given array\n",
        "def column_wise_mean(arr):\n",
        "  print(arr)\n",
        "  return np.mean(arr,axis=0)"
      ],
      "metadata": {
        "id": "OxjtBv4W_Rrv"
      },
      "execution_count": 68,
      "outputs": []
    },
    {
      "cell_type": "code",
      "source": [
        "column_wise_mean(arr=np.array([[1,2,3],[4,5,6]]))"
      ],
      "metadata": {
        "colab": {
          "base_uri": "https://localhost:8080/"
        },
        "id": "Nof9ugHH_RvV",
        "outputId": "331edf59-653f-4b11-a3eb-4e9b6575e2a2"
      },
      "execution_count": 69,
      "outputs": [
        {
          "output_type": "stream",
          "name": "stdout",
          "text": [
            "[[1 2 3]\n",
            " [4 5 6]]\n"
          ]
        },
        {
          "output_type": "execute_result",
          "data": {
            "text/plain": [
              "array([2.5, 3.5, 4.5])"
            ]
          },
          "metadata": {},
          "execution_count": 69
        }
      ]
    },
    {
      "cell_type": "code",
      "source": [
        "## 42.find maxmium value in each row of the given array\n",
        "def max_value(arr):\n",
        "  return np.max(arr,axis=1)\n"
      ],
      "metadata": {
        "id": "ClQYCTVR_Rye"
      },
      "execution_count": 70,
      "outputs": []
    },
    {
      "cell_type": "code",
      "source": [
        "max_value(arr=np.array([[1,2,3],[4,5,6]]))"
      ],
      "metadata": {
        "colab": {
          "base_uri": "https://localhost:8080/"
        },
        "id": "wcv8vMHZDRIc",
        "outputId": "8d26b138-3d82-42a7-a69b-2d9712f4c02c"
      },
      "execution_count": 71,
      "outputs": [
        {
          "output_type": "execute_result",
          "data": {
            "text/plain": [
              "array([3, 6])"
            ]
          },
          "metadata": {},
          "execution_count": 71
        }
      ]
    },
    {
      "cell_type": "code",
      "source": [
        "## 43.for the given array find indices  of maximum value in each column\n",
        "def max_value(arr):\n",
        "  print(arr)\n",
        "  return np.max(arr,axis=0)\n"
      ],
      "metadata": {
        "id": "0tvW-H43DRSa"
      },
      "execution_count": 72,
      "outputs": []
    },
    {
      "cell_type": "code",
      "source": [
        "max_value(arr=np.array([[1,2,3],[4,5,6]]))"
      ],
      "metadata": {
        "colab": {
          "base_uri": "https://localhost:8080/"
        },
        "id": "SAVTMRkkDRWb",
        "outputId": "919cf4a7-2b38-466f-f1b6-46008b121c7f"
      },
      "execution_count": 73,
      "outputs": [
        {
          "output_type": "stream",
          "name": "stdout",
          "text": [
            "[[1 2 3]\n",
            " [4 5 6]]\n"
          ]
        },
        {
          "output_type": "execute_result",
          "data": {
            "text/plain": [
              "array([4, 5, 6])"
            ]
          },
          "metadata": {},
          "execution_count": 73
        }
      ]
    },
    {
      "cell_type": "code",
      "source": [
        "## 44.for the given array,apply custom function to calculate moving sum along rows\n",
        "def moving_sum(arr,window_size):\n",
        "  result=[]\n",
        "  for i in arr:\n",
        "    row_result=[]\n",
        "    for j in range(len(i)-window_size+1):\n",
        "      row_result.append(np.sum(i[j:j+window_size]))\n",
        "    result.append(row_result)\n",
        "  return np.array(result)"
      ],
      "metadata": {
        "id": "4ZwEcVhm_SAw"
      },
      "execution_count": 202,
      "outputs": []
    },
    {
      "cell_type": "code",
      "source": [
        "arr = np.array([[1, 2, 3, 4, 5], [6, 7, 8, 9, 10]])\n",
        "window_size = 3\n",
        "moving_sum(arr, window_size)\n"
      ],
      "metadata": {
        "colab": {
          "base_uri": "https://localhost:8080/"
        },
        "id": "BWjSSZCoDeMF",
        "outputId": "dc8fffcf-3218-4f65-9c59-2b15b1b055eb"
      },
      "execution_count": 203,
      "outputs": [
        {
          "output_type": "execute_result",
          "data": {
            "text/plain": [
              "array([[ 6,  9, 12],\n",
              "       [21, 24, 27]])"
            ]
          },
          "metadata": {},
          "execution_count": 203
        }
      ]
    },
    {
      "cell_type": "code",
      "source": [
        "## 45. in the given array.check if all elements in each column are even.\n",
        "def check_even(arr):\n",
        "  print(arr)\n",
        "  return np.all(arr%2==0,axis=0)"
      ],
      "metadata": {
        "id": "l1wsepAI_SEN"
      },
      "execution_count": 75,
      "outputs": []
    },
    {
      "cell_type": "code",
      "source": [
        "check_even(arr=np.array([[2,4,6],[3,5,7]]))"
      ],
      "metadata": {
        "colab": {
          "base_uri": "https://localhost:8080/"
        },
        "id": "UEepl-hp8NzK",
        "outputId": "36c42da3-a1e9-4566-cb75-01704bde2d97"
      },
      "execution_count": 76,
      "outputs": [
        {
          "output_type": "stream",
          "name": "stdout",
          "text": [
            "[[2 4 6]\n",
            " [3 5 7]]\n"
          ]
        },
        {
          "output_type": "execute_result",
          "data": {
            "text/plain": [
              "array([False, False, False])"
            ]
          },
          "metadata": {},
          "execution_count": 76
        }
      ]
    },
    {
      "cell_type": "code",
      "source": [
        "## 46.given a numpy array  arr,reshape it into matrix of dimension m rows and n coloumns.return the reshaped matrix\n",
        "def reshape_array(original_array,m,n):\n",
        "  print(original_array)\n",
        "  return np.matrix(original_array.reshape(m,n))"
      ],
      "metadata": {
        "id": "RpA-WD3LNfaC"
      },
      "execution_count": 77,
      "outputs": []
    },
    {
      "cell_type": "code",
      "source": [
        "reshape_array(original_array=np.array([1,2,3,4,5,6]),m=3,n=2)"
      ],
      "metadata": {
        "id": "PQN29u8PNfn9",
        "colab": {
          "base_uri": "https://localhost:8080/"
        },
        "outputId": "93566978-2fa7-48ab-b5b0-344efa7ae04e"
      },
      "execution_count": 78,
      "outputs": [
        {
          "output_type": "stream",
          "name": "stdout",
          "text": [
            "[1 2 3 4 5 6]\n"
          ]
        },
        {
          "output_type": "execute_result",
          "data": {
            "text/plain": [
              "matrix([[1, 2],\n",
              "        [3, 4],\n",
              "        [5, 6]])"
            ]
          },
          "metadata": {},
          "execution_count": 78
        }
      ]
    },
    {
      "cell_type": "code",
      "source": [
        "## 47.create a function that takes a matrix as a input and return the flattened array\n",
        "def flatten_array(input_matrix):\n",
        "  return np.array(input_matrix.flatten())"
      ],
      "metadata": {
        "id": "x6y_3L7oNftc"
      },
      "execution_count": 79,
      "outputs": []
    },
    {
      "cell_type": "code",
      "source": [
        "flatten_array(input_matrix=np.matrix([[1,2,3],[4,5,6]]))"
      ],
      "metadata": {
        "id": "flKE8UxE8N20",
        "colab": {
          "base_uri": "https://localhost:8080/"
        },
        "outputId": "129158b0-dbe1-45f2-fd58-934610a0a3db"
      },
      "execution_count": 80,
      "outputs": [
        {
          "output_type": "execute_result",
          "data": {
            "text/plain": [
              "array([[1, 2, 3, 4, 5, 6]])"
            ]
          },
          "metadata": {},
          "execution_count": 80
        }
      ]
    },
    {
      "cell_type": "code",
      "source": [
        "## 48.write a function that concatenate two given array along specifed axis\n",
        "array1 = np.array([[1, 2], [3, 4]])\n",
        "array2 = np.array([[5, 6], [7, 8]])"
      ],
      "metadata": {
        "id": "nlUS2WHv8N6G"
      },
      "execution_count": 81,
      "outputs": []
    },
    {
      "cell_type": "code",
      "source": [
        "np.concatenate((array1,array2),axis=1)"
      ],
      "metadata": {
        "id": "DI9qIdep8N9e",
        "colab": {
          "base_uri": "https://localhost:8080/"
        },
        "outputId": "02024740-cb1c-4ab6-8c11-2dc58ae17358"
      },
      "execution_count": 82,
      "outputs": [
        {
          "output_type": "execute_result",
          "data": {
            "text/plain": [
              "array([[1, 2, 5, 6],\n",
              "       [3, 4, 7, 8]])"
            ]
          },
          "metadata": {},
          "execution_count": 82
        }
      ]
    },
    {
      "cell_type": "code",
      "source": [
        "## 49. Create a function that splits an array into multiple sub-arrays along a specified axis\n",
        "def split_array(original_array,indices,axis):\n",
        "  return np.split(original_array,indices,axis)"
      ],
      "metadata": {
        "id": "AoiOOQNZvQtf"
      },
      "execution_count": 83,
      "outputs": []
    },
    {
      "cell_type": "code",
      "source": [
        "split_array(original_array = np.array([[1, 2, 3], [4, 5, 6], [7, 8, 9]]),indices=3,axis=0)"
      ],
      "metadata": {
        "id": "Q0X7ZFeeqc1-",
        "colab": {
          "base_uri": "https://localhost:8080/"
        },
        "outputId": "06e47c74-adbf-46e5-83f4-509028df919b"
      },
      "execution_count": 84,
      "outputs": [
        {
          "output_type": "execute_result",
          "data": {
            "text/plain": [
              "[array([[1, 2, 3]]), array([[4, 5, 6]]), array([[7, 8, 9]])]"
            ]
          },
          "metadata": {},
          "execution_count": 84
        }
      ]
    },
    {
      "cell_type": "code",
      "source": [
        "## 50.write a functiion that inserts and then deletes elements from given array at specified indices\n",
        "original_array=np.array([1,2,3,4,5,6,7,8,9,10])\n",
        "print(original_array)\n",
        "arr1=np.delete(original_array,[1,3])\n",
        "print(\"modified_array\",np.insert(arr1,[2,4],[10,11]))\n"
      ],
      "metadata": {
        "id": "FVwHiPZOg8W9",
        "colab": {
          "base_uri": "https://localhost:8080/"
        },
        "outputId": "5ee9f9a1-0184-4ff7-d62b-3d4956850551"
      },
      "execution_count": 85,
      "outputs": [
        {
          "output_type": "stream",
          "name": "stdout",
          "text": [
            "[ 1  2  3  4  5  6  7  8  9 10]\n",
            "modified_array [ 1  3 10  5  6 11  7  8  9 10]\n"
          ]
        }
      ]
    },
    {
      "cell_type": "code",
      "source": [
        "import random\n",
        "##51. Create a NumPy array `arr1` with random integers and another array `arr2` with integers from 1 to 10.\n",
        "## Perform element-wise addition between `arr1` and `arr2`.\n",
        "arr1=np.random.randint(1,10,size=(3,3))\n",
        "arr2=np.random.randint(1,10,size=(3,3))\n",
        "arr1\n",
        "arr2\n",
        "arr1+arr2"
      ],
      "metadata": {
        "id": "r_Ax2PxTg8lz",
        "colab": {
          "base_uri": "https://localhost:8080/"
        },
        "outputId": "6db15c71-46c1-4547-f338-1309602d8895"
      },
      "execution_count": 86,
      "outputs": [
        {
          "output_type": "execute_result",
          "data": {
            "text/plain": [
              "array([[ 9,  8, 12],\n",
              "       [15, 13, 13],\n",
              "       [11, 15, 13]])"
            ]
          },
          "metadata": {},
          "execution_count": 86
        }
      ]
    },
    {
      "cell_type": "code",
      "source": [
        "## 52. Generate a NumPy array `arr1` with sequential integers from 10 to 1 and another array `arr2` with integers\n",
        "##from 1 to 10. Subtract `arr2` from `arr1` element-wise.\n",
        "arr2=np.arange(1,11,1)\n",
        "arr1=np.arange(10,0,-1)"
      ],
      "metadata": {
        "id": "otU9OwZfdCrU"
      },
      "execution_count": 99,
      "outputs": []
    },
    {
      "cell_type": "code",
      "source": [
        "arr1-arr2"
      ],
      "metadata": {
        "colab": {
          "base_uri": "https://localhost:8080/"
        },
        "id": "r5sAQukwUa6A",
        "outputId": "142f9a4c-69cf-4ee5-a74f-a02a0f2b50a6"
      },
      "execution_count": 101,
      "outputs": [
        {
          "output_type": "execute_result",
          "data": {
            "text/plain": [
              "array([ 9,  7,  5,  3,  1, -1, -3, -5, -7, -9])"
            ]
          },
          "metadata": {},
          "execution_count": 101
        }
      ]
    },
    {
      "cell_type": "code",
      "source": [
        "## 53.53. Create a NumPy array `arr1` with random integers and another array `arr2` with integers from 1 to 5.\n",
        "## Perform element-wise multiplication between `arr1` and `arr2\n",
        "arr1=np.random.randint(1,6,size=(5))\n",
        "arr2=np.array([1,2,3,4,5])\n",
        "arr1*arr2\n",
        "\n"
      ],
      "metadata": {
        "id": "MSpTGhPtdCw4",
        "colab": {
          "base_uri": "https://localhost:8080/"
        },
        "outputId": "e0c9dd4d-4ffb-4285-c0ea-b08dc440794e"
      },
      "execution_count": 104,
      "outputs": [
        {
          "output_type": "execute_result",
          "data": {
            "text/plain": [
              "array([ 2, 10, 15,  8, 10])"
            ]
          },
          "metadata": {},
          "execution_count": 104
        }
      ]
    },
    {
      "cell_type": "code",
      "source": [
        "##54. Generate a NumPy array `arr1` with even integers from 2 to 10 and another array `arr2` with integers from 1\n",
        "## to 5. Perform element-wise division of `arr1` by `arr2`.\n",
        "arr1=np.arange(2,11,2)\n",
        "arr2=np.arange(1,6)\n",
        "arr1/arr2"
      ],
      "metadata": {
        "colab": {
          "base_uri": "https://localhost:8080/"
        },
        "id": "mMlIu4oQCW4I",
        "outputId": "10287145-5bf3-414f-8c11-4a0d2fa4bb12"
      },
      "execution_count": 105,
      "outputs": [
        {
          "output_type": "execute_result",
          "data": {
            "text/plain": [
              "array([2., 2., 2., 2., 2.])"
            ]
          },
          "metadata": {},
          "execution_count": 105
        }
      ]
    },
    {
      "cell_type": "code",
      "source": [
        "##55. Create a NumPy array `arr1` with integers from 1 to 5 and another array `arr2` with the same numbers\n",
        "## reversed. Calculate the exponentiation of `arr1` raised to the power of `arr2` element-wise.\n",
        "arr1=np.arange(1,6,1)\n",
        "arr2=np.arange(5,0,-1)\n",
        "arr1**arr2"
      ],
      "metadata": {
        "colab": {
          "base_uri": "https://localhost:8080/"
        },
        "id": "yjvwL1a_CXZ2",
        "outputId": "059a2609-4a79-44e1-c7f0-a4d0217b7a0b"
      },
      "execution_count": 106,
      "outputs": [
        {
          "output_type": "execute_result",
          "data": {
            "text/plain": [
              "array([ 1, 16, 27, 16,  5])"
            ]
          },
          "metadata": {},
          "execution_count": 106
        }
      ]
    },
    {
      "cell_type": "code",
      "source": [
        "# # 56. Write a function that counts the occurrences of a specific substring\n",
        "# within a NumPy array of strings.\n",
        "arr = np.array(['hello ', 'world', 'hello', 'numpy', 'hello'])\n",
        "occurrences=np.char.count(arr,'hello')\n",
        "print(np.sum(occurrences))"
      ],
      "metadata": {
        "id": "QAqgFyEGctDn",
        "colab": {
          "base_uri": "https://localhost:8080/"
        },
        "outputId": "7097b09d-886a-4de9-8e40-cc87bf96f96f"
      },
      "execution_count": 107,
      "outputs": [
        {
          "output_type": "stream",
          "name": "stdout",
          "text": [
            "3\n"
          ]
        }
      ]
    },
    {
      "cell_type": "code",
      "source": [
        "import numpy as np\n",
        "## 57. Write a function that extracts uppercase characters from a NumPy array of strings.\n",
        "def extract_uppercase_char(arr):\n",
        "   uppercase_chars = [char for string in arr for char in string if char.isupper()]\n",
        "   return np.array(uppercase_chars)"
      ],
      "metadata": {
        "id": "U9EoOQ6t0szs"
      },
      "execution_count": 108,
      "outputs": []
    },
    {
      "cell_type": "code",
      "source": [
        "extract_uppercase_char(arr = np.array(['Hello', 'World', 'OpenAI', 'GPT']))"
      ],
      "metadata": {
        "colab": {
          "base_uri": "https://localhost:8080/"
        },
        "id": "Hfh74ieX2dpQ",
        "outputId": "28216119-1c69-4cda-f366-625044707ecb"
      },
      "execution_count": 109,
      "outputs": [
        {
          "output_type": "execute_result",
          "data": {
            "text/plain": [
              "array(['H', 'W', 'O', 'A', 'I', 'G', 'P', 'T'], dtype='<U1')"
            ]
          },
          "metadata": {},
          "execution_count": 109
        }
      ]
    },
    {
      "cell_type": "code",
      "source": [
        "##58. Write a function that replaces occurrences of a substring in a NumPy array of strings with a new string.\n",
        "arr = np.array(['apple', 'banana', 'grape', 'pineapple'])\n",
        "np.char.replace(arr,\"apple\",\"mango\")"
      ],
      "metadata": {
        "id": "2I46WLqHc1sm",
        "colab": {
          "base_uri": "https://localhost:8080/"
        },
        "outputId": "b3a26278-c16e-42bb-b6e4-cf1717dd8b6a"
      },
      "execution_count": 110,
      "outputs": [
        {
          "output_type": "execute_result",
          "data": {
            "text/plain": [
              "array(['mango', 'banana', 'grape', 'pinemango'], dtype='<U9')"
            ]
          },
          "metadata": {},
          "execution_count": 110
        }
      ]
    },
    {
      "cell_type": "code",
      "source": [
        "59.## Write a function that concatenates strings in a NumPy array element-wise\n",
        "arr1 = np.array(['Hello', 'World'])\n",
        "arr2 = np.array(['Open', 'AI'])\n",
        "np.char.add(arr1,arr2)\n"
      ],
      "metadata": {
        "id": "IXBvs0bYc1vg",
        "colab": {
          "base_uri": "https://localhost:8080/"
        },
        "outputId": "a0ce039c-8c90-4b68-fc4d-d420a0f5b783"
      },
      "execution_count": 111,
      "outputs": [
        {
          "output_type": "execute_result",
          "data": {
            "text/plain": [
              "array(['HelloOpen', 'WorldAI'], dtype='<U9')"
            ]
          },
          "metadata": {},
          "execution_count": 111
        }
      ]
    },
    {
      "cell_type": "code",
      "source": [
        "## 60. Write a function that finds the length of the longest string in a NumPy array\n",
        "arr = np.array(['apple', 'banana', 'grape', 'pineapple'])\n",
        "np.max(np.char.str_len(arr))"
      ],
      "metadata": {
        "colab": {
          "base_uri": "https://localhost:8080/"
        },
        "id": "9Xg3tz7ogb76",
        "outputId": "c49caf1b-6fa0-4fbc-ed28-612a325772eb"
      },
      "execution_count": 112,
      "outputs": [
        {
          "output_type": "execute_result",
          "data": {
            "text/plain": [
              "9"
            ]
          },
          "metadata": {},
          "execution_count": 112
        }
      ]
    },
    {
      "cell_type": "code",
      "source": [
        "## 61.61. Create a dataset of 100 random integers between 1 and 1000. Compute the mean, median, variance, and\n",
        "##mstandard deviation of the dataset using NumPy's functions\n",
        "import numpy as np\n",
        "arr=np.random.randint(1,1000,size=(100))\n",
        "print(arr)\n",
        "print(\"mean\",np.mean(arr))\n",
        "print(\"median\",np.median(arr))\n",
        "print(\"variance\",np.var(arr))\n",
        "print(\"standard\",np.std(arr))\n"
      ],
      "metadata": {
        "colab": {
          "base_uri": "https://localhost:8080/"
        },
        "id": "qg5pV3-SS2fJ",
        "outputId": "3f71b173-830b-4951-e231-c70555edab7b"
      },
      "execution_count": 113,
      "outputs": [
        {
          "output_type": "stream",
          "name": "stdout",
          "text": [
            "[645 482  28 705 236 118 866 498 407 551 666 881 155 480 179 411 756 683\n",
            " 950 180 442 994 347 584 867 234 438 640 646 608 831 129 722 822 138 788\n",
            " 401  18 163 658 234 979 559 670 830 522 235 268 880 548  74 707 436 822\n",
            " 234 688 626 354 640 774 246 156 263 331 132 368 166 630 912 156 469  49\n",
            " 536 798 989 454  27 498 917 790 782 231 483 491 363 281   2 204 384 299\n",
            " 111 709 119 771 633 739  57 152  94 251]\n",
            "mean 474.7\n",
            "median 481.0\n",
            "variance 77027.99\n",
            "standard 277.53916840691153\n"
          ]
        }
      ]
    },
    {
      "cell_type": "code",
      "source": [
        "## 62. Generate an array of 50 random numbers between 1 and 100. Find the 25th and 75th percentiles of the\n",
        "## dataset.\n",
        "arr1=np.random.randint(1,100,size=(50))\n",
        "print(arr1)\n",
        "print(np.percentile(arr1,25))\n",
        "print(np.percentile(arr1,75))"
      ],
      "metadata": {
        "colab": {
          "base_uri": "https://localhost:8080/"
        },
        "id": "O2ULm17SURBS",
        "outputId": "815d097e-13eb-43a7-9d7b-b942db7a6566"
      },
      "execution_count": 114,
      "outputs": [
        {
          "output_type": "stream",
          "name": "stdout",
          "text": [
            "[76 61 76  1  1 25 12  1 90 52 16 88 93 70  3 63 20 26 74 75 94 99 54 28\n",
            " 95 75 66 62 64 94 50 68 45 37 67 94 56  7 10 13 70 77  9 43 82 89 43 46\n",
            " 24 75]\n",
            "25.25\n",
            "75.75\n"
          ]
        }
      ]
    },
    {
      "cell_type": "code",
      "source": [
        "##63. Create two arrays representing two sets of variables. Compute the correlation coefficient between these\n",
        "## arrays using NumPy's `corrcoef` function\n",
        "arr1=np.array([1,2,3,4,5])\n",
        "arr2=np.array([0,15,30,45,60])\n",
        "np.corrcoef(arr1,arr2)"
      ],
      "metadata": {
        "colab": {
          "base_uri": "https://localhost:8080/"
        },
        "id": "taWGBpGZS2uZ",
        "outputId": "72ff406d-b749-4d4a-ebee-5d1b8a1eb058"
      },
      "execution_count": 129,
      "outputs": [
        {
          "output_type": "execute_result",
          "data": {
            "text/plain": [
              "array([[1., 1.],\n",
              "       [1., 1.]])"
            ]
          },
          "metadata": {},
          "execution_count": 129
        }
      ]
    },
    {
      "cell_type": "code",
      "source": [
        "##64. Create two matrices and perform matrix multiplication using NumPy's `dot` function\n",
        "arr1=np.matrix([[1,2,3],[4,5,6 ]])\n",
        "arr2=np.matrix([[7,8,9],[10,11,12],[1,2,3]])\n",
        "np.dot(arr1,arr2)"
      ],
      "metadata": {
        "colab": {
          "base_uri": "https://localhost:8080/"
        },
        "id": "2GAaYPSWnrrg",
        "outputId": "a56570da-585d-44cd-ac00-472cb2ab0d43"
      },
      "execution_count": 130,
      "outputs": [
        {
          "output_type": "execute_result",
          "data": {
            "text/plain": [
              "matrix([[ 30,  36,  42],\n",
              "        [ 84,  99, 114]])"
            ]
          },
          "metadata": {},
          "execution_count": 130
        }
      ]
    },
    {
      "cell_type": "code",
      "source": [
        "##65. Create an array of 50 integers between 10 and 1000. Calculate the 10th, 50th (median), and 90th\n",
        "## percentiles along with the first and third quartiles.\n",
        "arr=np.array(np.random.randint(10,1000,size=(50)))\n",
        "print(arr)\n",
        "print(np.percentile(arr,10))\n",
        "print(np.percentile(arr,50))\n",
        "print(np.percentile(arr,90))"
      ],
      "metadata": {
        "colab": {
          "base_uri": "https://localhost:8080/"
        },
        "id": "juoaBA2lnsqv",
        "outputId": "c9b2e542-d850-4255-f7fc-6dead96b0fdf"
      },
      "execution_count": 131,
      "outputs": [
        {
          "output_type": "stream",
          "name": "stdout",
          "text": [
            "[943 660 668 461 147 810 853 855 800 807 193 443 954 789 615 585 700 889\n",
            " 983 963 585 785 226 552 358 110  13 904 765 926 242 106 692 205 128 701\n",
            " 686 814 544 546 482 944 211 474 244 201 569 767 110 313]\n",
            "145.1\n",
            "600.0\n",
            "927.7\n"
          ]
        }
      ]
    },
    {
      "cell_type": "code",
      "source": [
        "##66. Create a NumPy array of integers and find the index of a specific element.\n",
        "arr=np.array(np.linspace(1,10,10))\n",
        "print(arr)\n",
        "np.where(arr==4)"
      ],
      "metadata": {
        "colab": {
          "base_uri": "https://localhost:8080/"
        },
        "id": "lHvw-HLAsbEZ",
        "outputId": "1fa73af2-dfdf-4858-f5ca-cba5a73eb5e0"
      },
      "execution_count": 132,
      "outputs": [
        {
          "output_type": "stream",
          "name": "stdout",
          "text": [
            "[ 1.  2.  3.  4.  5.  6.  7.  8.  9. 10.]\n"
          ]
        },
        {
          "output_type": "execute_result",
          "data": {
            "text/plain": [
              "(array([3]),)"
            ]
          },
          "metadata": {},
          "execution_count": 132
        }
      ]
    },
    {
      "cell_type": "code",
      "source": [
        "##67. Generate a random NumPy array and sort it in ascending order\n",
        "arr=np.random.randint(1,100,size=(10))\n",
        "print(arr)\n",
        "np.sort(arr)\n"
      ],
      "metadata": {
        "colab": {
          "base_uri": "https://localhost:8080/"
        },
        "id": "PlqsG1EzsbPf",
        "outputId": "651ac4ca-1745-490b-e502-2e9bb296aa81"
      },
      "execution_count": 133,
      "outputs": [
        {
          "output_type": "stream",
          "name": "stdout",
          "text": [
            "[45  7 79 42 28 94 90 60 30 10]\n"
          ]
        },
        {
          "output_type": "execute_result",
          "data": {
            "text/plain": [
              "array([ 7, 10, 28, 30, 42, 45, 60, 79, 90, 94])"
            ]
          },
          "metadata": {},
          "execution_count": 133
        }
      ]
    },
    {
      "cell_type": "code",
      "source": [
        "## 68. Filter elements >20  in the given NumPy array.\n",
        "arr=np.array([12,25,6,42,8,30])\n",
        "arr[arr>20]"
      ],
      "metadata": {
        "colab": {
          "base_uri": "https://localhost:8080/"
        },
        "id": "ThZ_2OwKsbTa",
        "outputId": "3d295a8a-894d-4c96-e537-0723d82272d8"
      },
      "execution_count": 134,
      "outputs": [
        {
          "output_type": "execute_result",
          "data": {
            "text/plain": [
              "array([25, 42, 30])"
            ]
          },
          "metadata": {},
          "execution_count": 134
        }
      ]
    },
    {
      "cell_type": "code",
      "source": [
        "##69. Filter elements which are divisible by 3 from a given NumPy array\n",
        "arr=np.array([1,5,8,12,15])\n",
        "arr[arr%3==0]"
      ],
      "metadata": {
        "colab": {
          "base_uri": "https://localhost:8080/"
        },
        "id": "bcPhAY20sbXE",
        "outputId": "9961269c-bd81-4697-b9b3-d21e3b1b1d6f"
      },
      "execution_count": 135,
      "outputs": [
        {
          "output_type": "execute_result",
          "data": {
            "text/plain": [
              "array([12, 15])"
            ]
          },
          "metadata": {},
          "execution_count": 135
        }
      ]
    },
    {
      "cell_type": "code",
      "source": [
        "##70. Filter elements which are ≥ 20 and ≤ 40 from a given NumPy array\n",
        "arr = np.array([10, 20, 30, 40, 50])\n",
        "arr[(arr>=20) &(arr<=40)]"
      ],
      "metadata": {
        "colab": {
          "base_uri": "https://localhost:8080/"
        },
        "id": "BIzNRd3vvmY3",
        "outputId": "30ecfef6-efaf-421b-edcf-d807e4b5f313"
      },
      "execution_count": 136,
      "outputs": [
        {
          "output_type": "execute_result",
          "data": {
            "text/plain": [
              "array([20, 30, 40])"
            ]
          },
          "metadata": {},
          "execution_count": 136
        }
      ]
    },
    {
      "cell_type": "code",
      "source": [
        "##71. For the given NumPy array, check its byte order using the `dtype` attribute byteorder\n",
        "arr = np.array([1, 2, 3])\n",
        "arr.dtype.byteorder"
      ],
      "metadata": {
        "colab": {
          "base_uri": "https://localhost:8080/",
          "height": 35
        },
        "id": "xAtYVBBQwtDE",
        "outputId": "f4035f63-9817-4400-c54b-189b543df5ae"
      },
      "execution_count": 137,
      "outputs": [
        {
          "output_type": "execute_result",
          "data": {
            "text/plain": [
              "'='"
            ],
            "application/vnd.google.colaboratory.intrinsic+json": {
              "type": "string"
            }
          },
          "metadata": {},
          "execution_count": 137
        }
      ]
    },
    {
      "cell_type": "code",
      "source": [
        "##72. For the given NumPy array, perform byte swapping in place using `byteswap()`.\n",
        "import struct\n",
        "arr = np.array([78, 55, 500], dtype=np.int32)\n",
        "new_arr=np.frombuffer(struct.pack(\"<\"+\"i\" * len(arr),*arr),dtype=np.int32)\n",
        "print(\"orignal\",arr)\n",
        "print(\"byte_swap\",new_arr)\n",
        "print(arr.tobytes())\n",
        "print(new_arr.tobytes())"
      ],
      "metadata": {
        "colab": {
          "base_uri": "https://localhost:8080/"
        },
        "id": "aJyU91YW1vxY",
        "outputId": "e59d04fa-6ba5-4c4e-ae8c-c7cd06d6a527"
      },
      "execution_count": 150,
      "outputs": [
        {
          "output_type": "stream",
          "name": "stdout",
          "text": [
            "orignal [ 78  55 500]\n",
            "byte_swap [ 78  55 500]\n",
            "b'N\\x00\\x00\\x007\\x00\\x00\\x00\\xf4\\x01\\x00\\x00'\n",
            "b'N\\x00\\x00\\x007\\x00\\x00\\x00\\xf4\\x01\\x00\\x00'\n"
          ]
        }
      ]
    },
    {
      "cell_type": "code",
      "source": [
        "##73.For the given NumPy array, swap its byte order without modifying the original array using\n",
        "## newbyteorder()`.\n",
        "arr = np.array([1, 2, 3], dtype=np.int32)\n",
        "swapped_arr = arr.view(arr.dtype.newbyteorder())\n",
        "print(\"orginal array\",arr)\n",
        "print(\"byte swapped array\",swapped_arr)\n"
      ],
      "metadata": {
        "colab": {
          "base_uri": "https://localhost:8080/"
        },
        "id": "DujKXFhD1v78",
        "outputId": "90cc1923-51e6-479d-8acf-5f34b1356cce"
      },
      "execution_count": 161,
      "outputs": [
        {
          "output_type": "stream",
          "name": "stdout",
          "text": [
            "orginal array [1 2 3]\n",
            "byte swapped array [16777216 33554432 50331648]\n"
          ]
        }
      ]
    },
    {
      "cell_type": "code",
      "source": [
        "##74. For the given NumPy array and swap its byte order conditionally based on system endianness using\n",
        "## newbyteorder()`\n",
        "import sys\n",
        "arr = np.array([1, 2, 3], dtype=np.int32)\n",
        "if sys.byteorder==\"little\":\n",
        "   swapped_arr=arr.view(arr.dtype.newbyteorder('big'))\n",
        "else:\n",
        "  swapped_arr=arr\n",
        "print(\"original array\",arr)\n",
        "print(\"byte_swapped_array\",swapped_arr)\n",
        "\n",
        "\n"
      ],
      "metadata": {
        "colab": {
          "base_uri": "https://localhost:8080/"
        },
        "id": "uMKA1LmK7awh",
        "outputId": "3c68164d-c1db-44bc-b92f-65432ee2b1a9"
      },
      "execution_count": 160,
      "outputs": [
        {
          "output_type": "stream",
          "name": "stdout",
          "text": [
            "original array [1 2 3]\n",
            "byte_swapped_array [16777216 33554432 50331648]\n"
          ]
        }
      ]
    },
    {
      "cell_type": "code",
      "source": [
        "##75. For the given NumPy array, check if byte swapping is necessary for the current system using `dtype`\n",
        "## attribute `byteorder`.\n",
        "arr = np.array([1, 2, 3], dtype=np.int32)\n",
        "if arr.dtype.byteorder == '=':\n",
        "    if sys.byteorder != arr.dtype.byteorder:\n",
        "        print(\"Byte swapping is necessary\")\n",
        "    else:\n",
        "        print(\"Byte swapping is not necessary\")\n",
        "elif arr.dtype.byteorder != sys.byteorder:\n",
        "    print(\"Byte swapping is necessary\")\n",
        "else:\n",
        "    print(\"Byte swapping is not necessary\")\n"
      ],
      "metadata": {
        "colab": {
          "base_uri": "https://localhost:8080/"
        },
        "id": "BRnGBCAd-tjc",
        "outputId": "e26c8b91-0677-4fcb-b0c4-f914b4c992bd"
      },
      "execution_count": 204,
      "outputs": [
        {
          "output_type": "stream",
          "name": "stdout",
          "text": [
            "Byte swapping is necessary\n"
          ]
        }
      ]
    },
    {
      "cell_type": "code",
      "source": [
        "import numpy as np\n",
        "import random\n",
        "##76.76. Create a NumPy array `arr1` with values from 1 to 10. Create a copy of `arr1` named `copy_arr` and modify\n",
        "##an element in `copy_arr`. Check if modifying `copy_arr` affects `arr1`.\n",
        "arr1=np.arange(1,11,1)\n",
        "copy_arr=arr1.copy()\n",
        "print(\"arr1\",arr1)\n",
        "print(\"copy_arr1\",copy_arr)\n",
        "copy_arr[0]=100\n",
        "print(\" change in copy arr\",copy_arr)\n",
        "print(\"arr1\",arr1)\n",
        "\n"
      ],
      "metadata": {
        "id": "iGBcIaze1wHY",
        "colab": {
          "base_uri": "https://localhost:8080/"
        },
        "outputId": "fc18188c-f53f-4fb6-da80-f3fa072b63b2"
      },
      "execution_count": 205,
      "outputs": [
        {
          "output_type": "stream",
          "name": "stdout",
          "text": [
            "arr1 [ 1  2  3  4  5  6  7  8  9 10]\n",
            "copy_arr1 [ 1  2  3  4  5  6  7  8  9 10]\n",
            " change in copy arr [100   2   3   4   5   6   7   8   9  10]\n",
            "arr1 [ 1  2  3  4  5  6  7  8  9 10]\n"
          ]
        }
      ]
    },
    {
      "cell_type": "code",
      "source": [
        "import random\n",
        "##77. Create a 2D NumPy array `matrix` of shape (3, 3) with random integers. Extract a slice `view_slice` from\n",
        "## the matrix. Modify an element in `view_slice` and observe if it changes the original `matrix`.\n",
        "matrix=np.random.randint(1,20,size=(3,3))\n",
        "print(\"matrix\",matrix)\n",
        "view_slice=matrix[1:,:2]\n",
        "view_slice[0,0]=100\n",
        "print(\"matrix\",matrix)\n",
        "\n"
      ],
      "metadata": {
        "colab": {
          "base_uri": "https://localhost:8080/"
        },
        "id": "95O8AwGuyZXk",
        "outputId": "580a1710-7657-4bf3-ff4d-8f59a9ccfbca"
      },
      "execution_count": 151,
      "outputs": [
        {
          "output_type": "stream",
          "name": "stdout",
          "text": [
            "matrix [[12 12  9]\n",
            " [ 5 16 13]\n",
            " [11  9 13]]\n",
            "matrix [[ 12  12   9]\n",
            " [100  16  13]\n",
            " [ 11   9  13]]\n"
          ]
        }
      ]
    },
    {
      "cell_type": "code",
      "source": [
        "##78. Create a NumPy array `array_a` of shape (4, 3) with sequential integers from 1 to 12. Extract a slice\n",
        "## view_b` from `array_a` and broadcast the addition of 5 to view_b. Check if it alters the original `array_a\n",
        "array_a=np.arange(1,13,1).reshape(4,3)\n",
        "print(array_a)\n",
        "view_b=array_a[1:,:2]\n",
        "view_b+=5\n",
        "print(array_a)\n",
        "\n"
      ],
      "metadata": {
        "colab": {
          "base_uri": "https://localhost:8080/"
        },
        "id": "BlroFToo2G5X",
        "outputId": "ddd074ff-7872-411c-fd27-6fc1723b87d6"
      },
      "execution_count": 152,
      "outputs": [
        {
          "output_type": "stream",
          "name": "stdout",
          "text": [
            "[[ 1  2  3]\n",
            " [ 4  5  6]\n",
            " [ 7  8  9]\n",
            " [10 11 12]]\n",
            "[[ 1  2  3]\n",
            " [ 9 10  6]\n",
            " [12 13  9]\n",
            " [15 16 12]]\n"
          ]
        }
      ]
    },
    {
      "cell_type": "code",
      "source": [
        "##79 Create a NumPy array `orig_array` of shape (2, 4) with values from 1 to 8. Create a reshaped view\n",
        "##  of shape (4, 2) from orig_array. Modify an element in `reshaped_view` and check if it\n",
        "## reflects changes in the original `orig_array\n",
        "orig_array=np.arange(1,9,1).reshape(2,4)\n",
        "print(\"orig_array\",orig_array)\n",
        "reshaped_view=orig_array.reshape(4,2)\n",
        "reshaped_view[0,1]=500\n",
        "print(\"orig_array\",orig_array)\n",
        "\n"
      ],
      "metadata": {
        "colab": {
          "base_uri": "https://localhost:8080/"
        },
        "id": "2BZsTS4e7CxP",
        "outputId": "d5378616-7a34-453d-ab89-6b818ffe4664"
      },
      "execution_count": 153,
      "outputs": [
        {
          "output_type": "stream",
          "name": "stdout",
          "text": [
            "orig_array [[1 2 3 4]\n",
            " [5 6 7 8]]\n",
            "orig_array [[  1 500   3   4]\n",
            " [  5   6   7   8]]\n"
          ]
        }
      ]
    },
    {
      "cell_type": "code",
      "source": [
        "##80. Create a NumPy array `data` of shape (3, 4) with random integers. Extract a copy `data_copy` of\n",
        "## elements greater than 5. Modify an element in `data_copy` and verify if it affects the original `data\n",
        "data=np.random.randint(1,50,size=(3,4))\n",
        "data_copy=data[data>5].copy()\n",
        "data_copy[0]=200\n",
        "print(\"data copy\",data_copy)\n",
        "print( \"data\",data)\n"
      ],
      "metadata": {
        "colab": {
          "base_uri": "https://localhost:8080/"
        },
        "id": "88YYpjoJ_eaU",
        "outputId": "8a0ad08b-987c-48dc-8a52-d2d8fb972b9b"
      },
      "execution_count": 154,
      "outputs": [
        {
          "output_type": "stream",
          "name": "stdout",
          "text": [
            "data copy [200  32  38  30  16  11  12  33  12  24  32   6]\n",
            "data [[18 32 38 30]\n",
            " [16 11 12 33]\n",
            " [12 24 32  6]]\n"
          ]
        }
      ]
    },
    {
      "cell_type": "code",
      "source": [
        "## 81. Create two matrices A and B of identical shape containing integers and perform addition and subtraction\n",
        "## operations between them.\n",
        "a=np.matrix(np.random.randint(1,50,size=(3,4)))\n",
        "b=np.matrix(np.random.randint(1,50,size=(3,4)))\n",
        "print(\"a+b\",a+b)\n",
        "print(\"a-b\",a-b)\n"
      ],
      "metadata": {
        "colab": {
          "base_uri": "https://localhost:8080/"
        },
        "id": "m7Y6qh0CDq_5",
        "outputId": "37bb85d1-7966-48f4-fb0b-639c00ffd0da"
      },
      "execution_count": 155,
      "outputs": [
        {
          "output_type": "stream",
          "name": "stdout",
          "text": [
            "a+b [[62 30 62 42]\n",
            " [45 80 13 44]\n",
            " [37 46 28 37]]\n",
            "a-b [[ 10  16  24  32]\n",
            " [-29   0   5  34]\n",
            " [  9 -36   4  13]]\n"
          ]
        }
      ]
    },
    {
      "cell_type": "code",
      "source": [
        "##82. Generate two matrices `C` (3x2) and `D` (2x4) and perform matrix multiplication\n",
        "c=np.matrix([[1,2],[3,4],[5,6]])\n",
        "d=np.matrix([[7,8,9,10],[11,12,13,14]])\n",
        "c@d"
      ],
      "metadata": {
        "colab": {
          "base_uri": "https://localhost:8080/"
        },
        "id": "64J_DfvnFToV",
        "outputId": "2ee249e6-3cdf-4574-a696-81c65e5e7326"
      },
      "execution_count": 156,
      "outputs": [
        {
          "output_type": "execute_result",
          "data": {
            "text/plain": [
              "matrix([[ 29,  32,  35,  38],\n",
              "        [ 65,  72,  79,  86],\n",
              "        [101, 112, 123, 134]])"
            ]
          },
          "metadata": {},
          "execution_count": 156
        }
      ]
    },
    {
      "cell_type": "code",
      "source": [
        "##83. Create a matrix `E` and find its transpose.\n",
        "E=np.matrix([[7,8,9,10],[11,12,13,14]])\n",
        "print(E)\n",
        "print(E.T)\n"
      ],
      "metadata": {
        "colab": {
          "base_uri": "https://localhost:8080/"
        },
        "id": "_Bp_7QUuF4aD",
        "outputId": "159a7a7f-7827-4685-9155-dcbcda0919ff"
      },
      "execution_count": 157,
      "outputs": [
        {
          "output_type": "stream",
          "name": "stdout",
          "text": [
            "[[ 7  8  9 10]\n",
            " [11 12 13 14]]\n",
            "[[ 7 11]\n",
            " [ 8 12]\n",
            " [ 9 13]\n",
            " [10 14]]\n"
          ]
        }
      ]
    },
    {
      "cell_type": "code",
      "source": [
        "## 84. Generate a square matrix `F` and compute its determinant.\n",
        "e=np.matrix([[7,8,9],[11,12,13],[15,16,17]])\n",
        "np.linalg.det(e)\n",
        "\n"
      ],
      "metadata": {
        "colab": {
          "base_uri": "https://localhost:8080/"
        },
        "id": "whlGYxSIF4jB",
        "outputId": "f50f25cd-4b84-46ef-cf13-41c23e536917"
      },
      "execution_count": 158,
      "outputs": [
        {
          "output_type": "execute_result",
          "data": {
            "text/plain": [
              "0.0"
            ]
          },
          "metadata": {},
          "execution_count": 158
        }
      ]
    },
    {
      "cell_type": "code",
      "source": [
        "## 85. Create a square matrix `G` and find its inverse.\n",
        "e=np.matrix([[7,8,9],[11,12,13],[15,16,18]])\n",
        "np.linalg.inv(e)\n"
      ],
      "metadata": {
        "colab": {
          "base_uri": "https://localhost:8080/"
        },
        "id": "EXw18TLGHxoH",
        "outputId": "d5d138c0-ecea-46ba-e141-ed4cb3dc6ed2"
      },
      "execution_count": 159,
      "outputs": [
        {
          "output_type": "execute_result",
          "data": {
            "text/plain": [
              "matrix([[-2.00000000e+00,  9.47390314e-16,  1.00000000e+00],\n",
              "        [ 7.50000000e-01,  2.25000000e+00, -2.00000000e+00],\n",
              "        [ 1.00000000e+00, -2.00000000e+00,  1.00000000e+00]])"
            ]
          },
          "metadata": {},
          "execution_count": 159
        }
      ]
    }
  ]
}